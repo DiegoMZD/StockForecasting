{
 "cells": [
  {
   "cell_type": "markdown",
   "metadata": {},
   "source": [
    "# Preprocessing and Modelling"
   ]
  },
  {
   "cell_type": "markdown",
   "metadata": {},
   "source": [
    "## Imports"
   ]
  },
  {
   "cell_type": "code",
   "execution_count": 1,
   "metadata": {},
   "outputs": [],
   "source": [
    "import numpy as np\n",
    "import pandas as pd\n",
    "import matplotlib.pyplot as plt\n",
    "import seaborn as sns"
   ]
  },
  {
   "cell_type": "code",
   "execution_count": 2,
   "metadata": {},
   "outputs": [],
   "source": [
    "from statsmodels.tsa.stattools import adfuller\n",
    "from statsmodels.tsa.seasonal import seasonal_decompose\n",
    "from statsmodels.tsa.arima.model import ARIMA\n",
    "from pmdarima.arima import auto_arima\n",
    "from statsmodels.graphics.tsaplots import plot_acf, plot_pacf"
   ]
  },
  {
   "cell_type": "code",
   "execution_count": 3,
   "metadata": {},
   "outputs": [],
   "source": [
    "from sklearn.model_selection import TimeSeriesSplit\n",
    "from sklearn.preprocessing import StandardScaler\n",
    "from sklearn.metrics import mean_absolute_error, mean_squared_error\n",
    "import warnings\n",
    "warnings.filterwarnings(\"ignore\")\n",
    "\n",
    "from sklearn.linear_model import LinearRegression\n",
    "from sklearn.linear_model import Ridge\n",
    "from sklearn.linear_model import Lasso\n",
    "import xgboost as xgb\n",
    "from tensorflow.keras.models import Sequential\n",
    "from tensorflow.keras.layers import LSTM, Dense, Dropout"
   ]
  },
  {
   "cell_type": "code",
   "execution_count": 4,
   "metadata": {},
   "outputs": [],
   "source": [
    "from sklearn.preprocessing import MinMaxScaler"
   ]
  },
  {
   "cell_type": "code",
   "execution_count": 5,
   "metadata": {},
   "outputs": [],
   "source": [
    "from prophet import Prophet\n",
    "import cmdstanpy"
   ]
  },
  {
   "cell_type": "markdown",
   "metadata": {},
   "source": [
    "## Load Data"
   ]
  },
  {
   "cell_type": "code",
   "execution_count": 6,
   "metadata": {},
   "outputs": [
    {
     "data": {
      "text/html": [
       "<div>\n",
       "<style scoped>\n",
       "    .dataframe tbody tr th:only-of-type {\n",
       "        vertical-align: middle;\n",
       "    }\n",
       "\n",
       "    .dataframe tbody tr th {\n",
       "        vertical-align: top;\n",
       "    }\n",
       "\n",
       "    .dataframe thead th {\n",
       "        text-align: right;\n",
       "    }\n",
       "</style>\n",
       "<table border=\"1\" class=\"dataframe\">\n",
       "  <thead>\n",
       "    <tr style=\"text-align: right;\">\n",
       "      <th></th>\n",
       "      <th>Tesla</th>\n",
       "      <th>Nio</th>\n",
       "      <th>Rivian</th>\n",
       "      <th>Lucid Motors</th>\n",
       "      <th>Ford</th>\n",
       "      <th>General Motors</th>\n",
       "      <th>Interest Rate</th>\n",
       "      <th>CCI</th>\n",
       "      <th>Oil Prices</th>\n",
       "      <th>CPI</th>\n",
       "    </tr>\n",
       "  </thead>\n",
       "  <tbody>\n",
       "    <tr>\n",
       "      <th>2021-11-10</th>\n",
       "      <td>355.983337</td>\n",
       "      <td>39.549999</td>\n",
       "      <td>100.730003</td>\n",
       "      <td>40.750000</td>\n",
       "      <td>15.992260</td>\n",
       "      <td>57.907940</td>\n",
       "      <td>0.163998</td>\n",
       "      <td>109.5</td>\n",
       "      <td>81.340</td>\n",
       "      <td>5.921978</td>\n",
       "    </tr>\n",
       "    <tr>\n",
       "      <th>2021-11-11</th>\n",
       "      <td>354.503326</td>\n",
       "      <td>42.200001</td>\n",
       "      <td>122.989998</td>\n",
       "      <td>44.980000</td>\n",
       "      <td>16.149208</td>\n",
       "      <td>60.399345</td>\n",
       "      <td>0.163998</td>\n",
       "      <td>109.5</td>\n",
       "      <td>81.590</td>\n",
       "      <td>5.921978</td>\n",
       "    </tr>\n",
       "    <tr>\n",
       "      <th>2021-11-12</th>\n",
       "      <td>344.473328</td>\n",
       "      <td>42.669998</td>\n",
       "      <td>129.949997</td>\n",
       "      <td>43.930000</td>\n",
       "      <td>16.107906</td>\n",
       "      <td>61.943035</td>\n",
       "      <td>0.163998</td>\n",
       "      <td>109.5</td>\n",
       "      <td>80.790</td>\n",
       "      <td>5.921978</td>\n",
       "    </tr>\n",
       "    <tr>\n",
       "      <th>2021-11-15</th>\n",
       "      <td>337.796661</td>\n",
       "      <td>40.570000</td>\n",
       "      <td>149.360001</td>\n",
       "      <td>44.880001</td>\n",
       "      <td>16.405281</td>\n",
       "      <td>61.522923</td>\n",
       "      <td>0.163998</td>\n",
       "      <td>109.5</td>\n",
       "      <td>80.880</td>\n",
       "      <td>5.921978</td>\n",
       "    </tr>\n",
       "    <tr>\n",
       "      <th>2021-11-16</th>\n",
       "      <td>351.576660</td>\n",
       "      <td>40.669998</td>\n",
       "      <td>172.009995</td>\n",
       "      <td>55.520000</td>\n",
       "      <td>16.347460</td>\n",
       "      <td>61.171192</td>\n",
       "      <td>0.163998</td>\n",
       "      <td>109.5</td>\n",
       "      <td>80.556</td>\n",
       "      <td>5.921978</td>\n",
       "    </tr>\n",
       "  </tbody>\n",
       "</table>\n",
       "</div>"
      ],
      "text/plain": [
       "                 Tesla        Nio      Rivian  Lucid Motors       Ford  \\\n",
       "2021-11-10  355.983337  39.549999  100.730003     40.750000  15.992260   \n",
       "2021-11-11  354.503326  42.200001  122.989998     44.980000  16.149208   \n",
       "2021-11-12  344.473328  42.669998  129.949997     43.930000  16.107906   \n",
       "2021-11-15  337.796661  40.570000  149.360001     44.880001  16.405281   \n",
       "2021-11-16  351.576660  40.669998  172.009995     55.520000  16.347460   \n",
       "\n",
       "            General Motors  Interest Rate    CCI  Oil Prices       CPI  \n",
       "2021-11-10       57.907940       0.163998  109.5      81.340  5.921978  \n",
       "2021-11-11       60.399345       0.163998  109.5      81.590  5.921978  \n",
       "2021-11-12       61.943035       0.163998  109.5      80.790  5.921978  \n",
       "2021-11-15       61.522923       0.163998  109.5      80.880  5.921978  \n",
       "2021-11-16       61.171192       0.163998  109.5      80.556  5.921978  "
      ]
     },
     "execution_count": 6,
     "metadata": {},
     "output_type": "execute_result"
    }
   ],
   "source": [
    "data = pd.read_csv(\"../data/process/data.csv\", index_col = 0)\n",
    "data.index = pd.to_datetime(data.index)\n",
    "data.head()"
   ]
  },
  {
   "cell_type": "code",
   "execution_count": 7,
   "metadata": {},
   "outputs": [
    {
     "data": {
      "text/html": [
       "<div>\n",
       "<style scoped>\n",
       "    .dataframe tbody tr th:only-of-type {\n",
       "        vertical-align: middle;\n",
       "    }\n",
       "\n",
       "    .dataframe tbody tr th {\n",
       "        vertical-align: top;\n",
       "    }\n",
       "\n",
       "    .dataframe thead th {\n",
       "        text-align: right;\n",
       "    }\n",
       "</style>\n",
       "<table border=\"1\" class=\"dataframe\">\n",
       "  <thead>\n",
       "    <tr style=\"text-align: right;\">\n",
       "      <th></th>\n",
       "      <th>Tesla</th>\n",
       "      <th>Nio</th>\n",
       "      <th>Rivian</th>\n",
       "      <th>Lucid Motors</th>\n",
       "      <th>Ford</th>\n",
       "      <th>General Motors</th>\n",
       "      <th>Interest Rate</th>\n",
       "      <th>CCI</th>\n",
       "      <th>Oil Prices</th>\n",
       "      <th>CPI</th>\n",
       "    </tr>\n",
       "  </thead>\n",
       "  <tbody>\n",
       "    <tr>\n",
       "      <th>2024-08-26</th>\n",
       "      <td>213.210007</td>\n",
       "      <td>4.03</td>\n",
       "      <td>14.36</td>\n",
       "      <td>4.26</td>\n",
       "      <td>11.11</td>\n",
       "      <td>48.628506</td>\n",
       "      <td>1.653358</td>\n",
       "      <td>103.3</td>\n",
       "      <td>77.15</td>\n",
       "      <td>3.052838</td>\n",
       "    </tr>\n",
       "    <tr>\n",
       "      <th>2024-08-27</th>\n",
       "      <td>209.210007</td>\n",
       "      <td>4.00</td>\n",
       "      <td>14.48</td>\n",
       "      <td>4.11</td>\n",
       "      <td>11.14</td>\n",
       "      <td>49.127258</td>\n",
       "      <td>1.653358</td>\n",
       "      <td>103.3</td>\n",
       "      <td>75.73</td>\n",
       "      <td>3.052838</td>\n",
       "    </tr>\n",
       "    <tr>\n",
       "      <th>2024-08-28</th>\n",
       "      <td>205.750000</td>\n",
       "      <td>3.70</td>\n",
       "      <td>13.83</td>\n",
       "      <td>3.94</td>\n",
       "      <td>11.04</td>\n",
       "      <td>48.927757</td>\n",
       "      <td>1.653358</td>\n",
       "      <td>103.3</td>\n",
       "      <td>74.38</td>\n",
       "      <td>3.052838</td>\n",
       "    </tr>\n",
       "    <tr>\n",
       "      <th>2024-08-29</th>\n",
       "      <td>206.279999</td>\n",
       "      <td>3.94</td>\n",
       "      <td>14.09</td>\n",
       "      <td>3.96</td>\n",
       "      <td>11.11</td>\n",
       "      <td>49.346714</td>\n",
       "      <td>1.653358</td>\n",
       "      <td>103.3</td>\n",
       "      <td>75.76</td>\n",
       "      <td>3.052838</td>\n",
       "    </tr>\n",
       "    <tr>\n",
       "      <th>2024-08-30</th>\n",
       "      <td>214.110001</td>\n",
       "      <td>4.04</td>\n",
       "      <td>14.13</td>\n",
       "      <td>4.02</td>\n",
       "      <td>11.19</td>\n",
       "      <td>49.655937</td>\n",
       "      <td>1.653358</td>\n",
       "      <td>103.3</td>\n",
       "      <td>73.65</td>\n",
       "      <td>3.052838</td>\n",
       "    </tr>\n",
       "  </tbody>\n",
       "</table>\n",
       "</div>"
      ],
      "text/plain": [
       "                 Tesla   Nio  Rivian  Lucid Motors   Ford  General Motors  \\\n",
       "2024-08-26  213.210007  4.03   14.36          4.26  11.11       48.628506   \n",
       "2024-08-27  209.210007  4.00   14.48          4.11  11.14       49.127258   \n",
       "2024-08-28  205.750000  3.70   13.83          3.94  11.04       48.927757   \n",
       "2024-08-29  206.279999  3.94   14.09          3.96  11.11       49.346714   \n",
       "2024-08-30  214.110001  4.04   14.13          4.02  11.19       49.655937   \n",
       "\n",
       "            Interest Rate    CCI  Oil Prices       CPI  \n",
       "2024-08-26       1.653358  103.3       77.15  3.052838  \n",
       "2024-08-27       1.653358  103.3       75.73  3.052838  \n",
       "2024-08-28       1.653358  103.3       74.38  3.052838  \n",
       "2024-08-29       1.653358  103.3       75.76  3.052838  \n",
       "2024-08-30       1.653358  103.3       73.65  3.052838  "
      ]
     },
     "execution_count": 7,
     "metadata": {},
     "output_type": "execute_result"
    }
   ],
   "source": [
    "data.tail()"
   ]
  },
  {
   "cell_type": "markdown",
   "metadata": {},
   "source": [
    "## Preprocessing"
   ]
  },
  {
   "cell_type": "markdown",
   "metadata": {},
   "source": [
    "### Check for missing values"
   ]
  },
  {
   "cell_type": "code",
   "execution_count": 8,
   "metadata": {},
   "outputs": [
    {
     "data": {
      "text/plain": [
       "Tesla             0\n",
       "Nio               0\n",
       "Rivian            0\n",
       "Lucid Motors      0\n",
       "Ford              0\n",
       "General Motors    0\n",
       "Interest Rate     0\n",
       "CCI               0\n",
       "Oil Prices        0\n",
       "CPI               0\n",
       "dtype: int64"
      ]
     },
     "execution_count": 8,
     "metadata": {},
     "output_type": "execute_result"
    }
   ],
   "source": [
    "data.isna().sum()"
   ]
  },
  {
   "cell_type": "markdown",
   "metadata": {},
   "source": [
    "## Feature Engineering"
   ]
  },
  {
   "cell_type": "markdown",
   "metadata": {},
   "source": [
    "### Date Features"
   ]
  },
  {
   "cell_type": "code",
   "execution_count": 9,
   "metadata": {},
   "outputs": [],
   "source": [
    "data[\"month\"] = data.index.month\n",
    "data[\"day\"] = data.index.day\n",
    "data[\"weekday\"] = data.index.weekday + 1\n",
    "data[\"year\"] = data.index.year"
   ]
  },
  {
   "cell_type": "markdown",
   "metadata": {},
   "source": [
    "### Lag Features"
   ]
  },
  {
   "cell_type": "code",
   "execution_count": 10,
   "metadata": {},
   "outputs": [
    {
     "data": {
      "text/html": [
       "<div>\n",
       "<style scoped>\n",
       "    .dataframe tbody tr th:only-of-type {\n",
       "        vertical-align: middle;\n",
       "    }\n",
       "\n",
       "    .dataframe tbody tr th {\n",
       "        vertical-align: top;\n",
       "    }\n",
       "\n",
       "    .dataframe thead th {\n",
       "        text-align: right;\n",
       "    }\n",
       "</style>\n",
       "<table border=\"1\" class=\"dataframe\">\n",
       "  <thead>\n",
       "    <tr style=\"text-align: right;\">\n",
       "      <th></th>\n",
       "      <th>Tesla</th>\n",
       "      <th>Nio</th>\n",
       "      <th>Rivian</th>\n",
       "      <th>Lucid Motors</th>\n",
       "      <th>Ford</th>\n",
       "      <th>General Motors</th>\n",
       "      <th>Interest Rate</th>\n",
       "      <th>CCI</th>\n",
       "      <th>Oil Prices</th>\n",
       "      <th>CPI</th>\n",
       "      <th>...</th>\n",
       "      <th>Oil Prices_mean_lag1</th>\n",
       "      <th>Oil Prices_mean_lag4</th>\n",
       "      <th>Oil Prices_mean_lag30</th>\n",
       "      <th>Oil Prices_std_lag4</th>\n",
       "      <th>Oil Prices_std_lag30</th>\n",
       "      <th>CPI_mean_lag1</th>\n",
       "      <th>CPI_mean_lag4</th>\n",
       "      <th>CPI_mean_lag30</th>\n",
       "      <th>CPI_std_lag4</th>\n",
       "      <th>CPI_std_lag30</th>\n",
       "    </tr>\n",
       "    <tr>\n",
       "      <th>Date</th>\n",
       "      <th></th>\n",
       "      <th></th>\n",
       "      <th></th>\n",
       "      <th></th>\n",
       "      <th></th>\n",
       "      <th></th>\n",
       "      <th></th>\n",
       "      <th></th>\n",
       "      <th></th>\n",
       "      <th></th>\n",
       "      <th></th>\n",
       "      <th></th>\n",
       "      <th></th>\n",
       "      <th></th>\n",
       "      <th></th>\n",
       "      <th></th>\n",
       "      <th></th>\n",
       "      <th></th>\n",
       "      <th></th>\n",
       "      <th></th>\n",
       "      <th></th>\n",
       "    </tr>\n",
       "  </thead>\n",
       "  <tbody>\n",
       "    <tr>\n",
       "      <th>2021-11-10</th>\n",
       "      <td>355.983337</td>\n",
       "      <td>39.549999</td>\n",
       "      <td>100.730003</td>\n",
       "      <td>40.750000</td>\n",
       "      <td>15.992260</td>\n",
       "      <td>57.907940</td>\n",
       "      <td>0.163998</td>\n",
       "      <td>109.5</td>\n",
       "      <td>81.340</td>\n",
       "      <td>5.921978</td>\n",
       "      <td>...</td>\n",
       "      <td>83.638237</td>\n",
       "      <td>83.651176</td>\n",
       "      <td>83.699051</td>\n",
       "      <td>1.646993</td>\n",
       "      <td>3.832741</td>\n",
       "      <td>5.420475</td>\n",
       "      <td>5.426588</td>\n",
       "      <td>5.476696</td>\n",
       "      <td>0.080124</td>\n",
       "      <td>0.537944</td>\n",
       "    </tr>\n",
       "    <tr>\n",
       "      <th>2021-11-11</th>\n",
       "      <td>354.503326</td>\n",
       "      <td>42.200001</td>\n",
       "      <td>122.989998</td>\n",
       "      <td>44.980000</td>\n",
       "      <td>16.149208</td>\n",
       "      <td>60.399345</td>\n",
       "      <td>0.163998</td>\n",
       "      <td>109.5</td>\n",
       "      <td>81.590</td>\n",
       "      <td>5.921978</td>\n",
       "      <td>...</td>\n",
       "      <td>81.339996</td>\n",
       "      <td>81.339996</td>\n",
       "      <td>81.339996</td>\n",
       "      <td>1.646993</td>\n",
       "      <td>3.832741</td>\n",
       "      <td>5.921978</td>\n",
       "      <td>5.921978</td>\n",
       "      <td>5.921978</td>\n",
       "      <td>0.080124</td>\n",
       "      <td>0.537944</td>\n",
       "    </tr>\n",
       "    <tr>\n",
       "      <th>2021-11-12</th>\n",
       "      <td>344.473328</td>\n",
       "      <td>42.669998</td>\n",
       "      <td>129.949997</td>\n",
       "      <td>43.930000</td>\n",
       "      <td>16.107906</td>\n",
       "      <td>61.943035</td>\n",
       "      <td>0.163998</td>\n",
       "      <td>109.5</td>\n",
       "      <td>80.790</td>\n",
       "      <td>5.921978</td>\n",
       "      <td>...</td>\n",
       "      <td>81.589996</td>\n",
       "      <td>81.464996</td>\n",
       "      <td>81.464996</td>\n",
       "      <td>0.176777</td>\n",
       "      <td>0.176777</td>\n",
       "      <td>5.921978</td>\n",
       "      <td>5.921978</td>\n",
       "      <td>5.921978</td>\n",
       "      <td>0.000000</td>\n",
       "      <td>0.000000</td>\n",
       "    </tr>\n",
       "    <tr>\n",
       "      <th>2021-11-15</th>\n",
       "      <td>337.796661</td>\n",
       "      <td>40.570000</td>\n",
       "      <td>149.360001</td>\n",
       "      <td>44.880001</td>\n",
       "      <td>16.405281</td>\n",
       "      <td>61.522923</td>\n",
       "      <td>0.163998</td>\n",
       "      <td>109.5</td>\n",
       "      <td>80.880</td>\n",
       "      <td>5.921978</td>\n",
       "      <td>...</td>\n",
       "      <td>80.790001</td>\n",
       "      <td>81.239998</td>\n",
       "      <td>81.239998</td>\n",
       "      <td>0.409268</td>\n",
       "      <td>0.409268</td>\n",
       "      <td>5.921978</td>\n",
       "      <td>5.921978</td>\n",
       "      <td>5.921978</td>\n",
       "      <td>0.000000</td>\n",
       "      <td>0.000000</td>\n",
       "    </tr>\n",
       "    <tr>\n",
       "      <th>2021-11-16</th>\n",
       "      <td>351.576660</td>\n",
       "      <td>40.669998</td>\n",
       "      <td>172.009995</td>\n",
       "      <td>55.520000</td>\n",
       "      <td>16.347460</td>\n",
       "      <td>61.171192</td>\n",
       "      <td>0.163998</td>\n",
       "      <td>109.5</td>\n",
       "      <td>80.556</td>\n",
       "      <td>5.921978</td>\n",
       "      <td>...</td>\n",
       "      <td>80.879997</td>\n",
       "      <td>81.150002</td>\n",
       "      <td>81.150002</td>\n",
       "      <td>0.379561</td>\n",
       "      <td>0.379561</td>\n",
       "      <td>5.921978</td>\n",
       "      <td>5.921978</td>\n",
       "      <td>5.921978</td>\n",
       "      <td>0.000000</td>\n",
       "      <td>0.000000</td>\n",
       "    </tr>\n",
       "  </tbody>\n",
       "</table>\n",
       "<p>5 rows × 64 columns</p>\n",
       "</div>"
      ],
      "text/plain": [
       "                 Tesla        Nio      Rivian  Lucid Motors       Ford  \\\n",
       "Date                                                                     \n",
       "2021-11-10  355.983337  39.549999  100.730003     40.750000  15.992260   \n",
       "2021-11-11  354.503326  42.200001  122.989998     44.980000  16.149208   \n",
       "2021-11-12  344.473328  42.669998  129.949997     43.930000  16.107906   \n",
       "2021-11-15  337.796661  40.570000  149.360001     44.880001  16.405281   \n",
       "2021-11-16  351.576660  40.669998  172.009995     55.520000  16.347460   \n",
       "\n",
       "            General Motors  Interest Rate    CCI  Oil Prices       CPI  ...  \\\n",
       "Date                                                                    ...   \n",
       "2021-11-10       57.907940       0.163998  109.5      81.340  5.921978  ...   \n",
       "2021-11-11       60.399345       0.163998  109.5      81.590  5.921978  ...   \n",
       "2021-11-12       61.943035       0.163998  109.5      80.790  5.921978  ...   \n",
       "2021-11-15       61.522923       0.163998  109.5      80.880  5.921978  ...   \n",
       "2021-11-16       61.171192       0.163998  109.5      80.556  5.921978  ...   \n",
       "\n",
       "            Oil Prices_mean_lag1  Oil Prices_mean_lag4  Oil Prices_mean_lag30  \\\n",
       "Date                                                                            \n",
       "2021-11-10             83.638237             83.651176              83.699051   \n",
       "2021-11-11             81.339996             81.339996              81.339996   \n",
       "2021-11-12             81.589996             81.464996              81.464996   \n",
       "2021-11-15             80.790001             81.239998              81.239998   \n",
       "2021-11-16             80.879997             81.150002              81.150002   \n",
       "\n",
       "            Oil Prices_std_lag4  Oil Prices_std_lag30  CPI_mean_lag1  \\\n",
       "Date                                                                   \n",
       "2021-11-10             1.646993              3.832741       5.420475   \n",
       "2021-11-11             1.646993              3.832741       5.921978   \n",
       "2021-11-12             0.176777              0.176777       5.921978   \n",
       "2021-11-15             0.409268              0.409268       5.921978   \n",
       "2021-11-16             0.379561              0.379561       5.921978   \n",
       "\n",
       "            CPI_mean_lag4  CPI_mean_lag30  CPI_std_lag4  CPI_std_lag30  \n",
       "Date                                                                    \n",
       "2021-11-10       5.426588        5.476696      0.080124       0.537944  \n",
       "2021-11-11       5.921978        5.921978      0.080124       0.537944  \n",
       "2021-11-12       5.921978        5.921978      0.000000       0.000000  \n",
       "2021-11-15       5.921978        5.921978      0.000000       0.000000  \n",
       "2021-11-16       5.921978        5.921978      0.000000       0.000000  \n",
       "\n",
       "[5 rows x 64 columns]"
      ]
     },
     "execution_count": 10,
     "metadata": {},
     "output_type": "execute_result"
    }
   ],
   "source": [
    "data[\"Date\"] = data.index\n",
    "data = data.reset_index(drop = True)\n",
    "lag_features = [\"Tesla\", \"Nio\", \"Rivian\", \"Lucid Motors\", \"Ford\", \"General Motors\", \"Interest Rate\", \"CCI\", \"Oil Prices\", \"CPI\"]\n",
    "window1 = 1\n",
    "window2 = 4\n",
    "window3 = 30\n",
    "\n",
    "data_rolled_1 = data[lag_features].rolling(window = window1, min_periods = 0)\n",
    "data_rolled_4 = data[lag_features].rolling(window = window2, min_periods = 0)\n",
    "data_rolled_30 = data[lag_features].rolling(window = window3, min_periods = 0)\n",
    "\n",
    "data_mean_1 = data_rolled_1.mean().shift(1).reset_index().astype(np.float32)\n",
    "data_mean_4 = data_rolled_4.mean().shift(1).reset_index().astype(np.float32)\n",
    "data_mean_30 = data_rolled_30.mean().shift(1).reset_index().astype(np.float32)\n",
    "\n",
    "data_std_4 = data_rolled_4.std().shift(1).reset_index().astype(np.float32)\n",
    "data_std_30 = data_rolled_30.std().shift(1).reset_index().astype(np.float32)\n",
    "\n",
    "for feature in lag_features:\n",
    "    data[f\"{feature}_mean_lag{window1}\"] = data_mean_1[feature]\n",
    "    data[f\"{feature}_mean_lag{window2}\"] = data_mean_4[feature]\n",
    "    data[f\"{feature}_mean_lag{window3}\"] = data_mean_30[feature]\n",
    "\n",
    "    data[f\"{feature}_std_lag{window2}\"] = data_std_4[feature]\n",
    "    data[f\"{feature}_std_lag{window3}\"] = data_std_30[feature]\n",
    "\n",
    "data.fillna(data.mean(), inplace = True)\n",
    "\n",
    "data.set_index(\"Date\", drop = True, inplace = True)\n",
    "\n",
    "data.head()"
   ]
  },
  {
   "cell_type": "markdown",
   "metadata": {},
   "source": [
    "### Set index frequency to daily"
   ]
  },
  {
   "cell_type": "code",
   "execution_count": 11,
   "metadata": {},
   "outputs": [],
   "source": [
    "data = data.asfreq(pd.infer_freq(data.index))\n",
    "data = data.ffill()"
   ]
  },
  {
   "cell_type": "markdown",
   "metadata": {},
   "source": [
    "### Split the data in train and test sets"
   ]
  },
  {
   "cell_type": "code",
   "execution_count": 12,
   "metadata": {},
   "outputs": [],
   "source": [
    "split_size = int(len(data) * 0.8)\n",
    "train = data.iloc[:split_size]\n",
    "test = data.iloc[split_size:]"
   ]
  },
  {
   "cell_type": "markdown",
   "metadata": {},
   "source": [
    "## Modelling"
   ]
  },
  {
   "cell_type": "markdown",
   "metadata": {},
   "source": [
    "### Tesla ARIMA Model"
   ]
  },
  {
   "cell_type": "code",
   "execution_count": 13,
   "metadata": {},
   "outputs": [
    {
     "data": {
      "image/png": "[encoded data removed]",
      "text/plain": [
       "<Figure size 640x480 with 1 Axes>"
      ]
     },
     "metadata": {},
     "output_type": "display_data"
    }
   ],
   "source": [
    "train[\"Tesla\"].plot()\n",
    "plt.title(\"Tesla Stock Price\")\n",
    "plt.show()"
   ]
  },
  {
   "cell_type": "markdown",
   "metadata": {},
   "source": [
    "Test for Stationarity"
   ]
  },
  {
   "cell_type": "code",
   "execution_count": 14,
   "metadata": {},
   "outputs": [
    {
     "name": "stdout",
     "output_type": "stream",
     "text": [
      "Test Statistic: -2.406768650874843\n",
      "p-value: 0.13983511355262485\n",
      "The time series is not stationary.\n"
     ]
    }
   ],
   "source": [
    "tesla_adft = adfuller(train[\"Tesla\"])\n",
    "print(f\"Test Statistic: {tesla_adft[0]}\")\n",
    "print(f\"p-value: {tesla_adft[1]}\")\n",
    "if tesla_adft[1] < 0.05:\n",
    "    print(\"The time series is stationary.\")\n",
    "else:\n",
    "    print(\"The time series is not stationary.\")"
   ]
  },
  {
   "cell_type": "markdown",
   "metadata": {},
   "source": [
    "Autocorrelation Function (AFC) Plot"
   ]
  },
  {
   "cell_type": "code",
   "execution_count": 15,
   "metadata": {},
   "outputs": [
    {
     "data": {
      "image/png": "[encoded data removed]",
      "text/plain": [
       "<Figure size 640x480 with 1 Axes>"
      ]
     },
     "metadata": {},
     "output_type": "display_data"
    }
   ],
   "source": [
    "plot_acf(train[\"Tesla\"])\n",
    "plt.show()"
   ]
  },
  {
   "cell_type": "markdown",
   "metadata": {},
   "source": [
    "Autocorrelation Function (AFC) Plot"
   ]
  },
  {
   "cell_type": "code",
   "execution_count": 16,
   "metadata": {},
   "outputs": [
    {
     "data": {
      "image/png": "[encoded data removed]",
      "text/plain": [
       "<Figure size 640x480 with 1 Axes>"
      ]
     },
     "metadata": {},
     "output_type": "display_data"
    }
   ],
   "source": [
    "plot_pacf(train[\"Tesla\"])\n",
    "plt.show()"
   ]
  },
  {
   "cell_type": "code",
   "execution_count": 17,
   "metadata": {},
   "outputs": [
    {
     "name": "stdout",
     "output_type": "stream",
     "text": [
      "Performing stepwise search to minimize aic\n",
      " ARIMA(2,1,2)(0,0,0)[0] intercept   : AIC=inf, Time=1.96 sec\n",
      " ARIMA(0,1,0)(0,0,0)[0] intercept   : AIC=5695.272, Time=0.04 sec\n",
      " ARIMA(1,1,0)(0,0,0)[0] intercept   : AIC=5696.624, Time=0.13 sec\n",
      " ARIMA(0,1,1)(0,0,0)[0] intercept   : AIC=5696.631, Time=0.15 sec\n",
      " ARIMA(0,1,0)(0,0,0)[0]             : AIC=5693.839, Time=0.03 sec\n",
      " ARIMA(1,1,1)(0,0,0)[0] intercept   : AIC=5697.478, Time=0.36 sec\n",
      "\n",
      "Best model:  ARIMA(0,1,0)(0,0,0)[0]          \n",
      "Total fit time: 2.819 seconds\n"
     ]
    }
   ],
   "source": [
    "tesla_pmdarima = auto_arima(train[\"Tesla\"],\n",
    "                            seasonal = True,\n",
    "                            trace = True,\n",
    "                            error_action = \"ignore\",\n",
    "                            stepwise = True\n",
    "                            )"
   ]
  },
  {
   "cell_type": "code",
   "execution_count": 18,
   "metadata": {},
   "outputs": [
    {
     "data": {
      "text/html": [
       "<table class=\"simpletable\">\n",
       "<caption>SARIMAX Results</caption>\n",
       "<tr>\n",
       "  <th>Dep. Variable:</th>           <td>y</td>        <th>  No. Observations:  </th>    <td>820</td>   \n",
       "</tr>\n",
       "<tr>\n",
       "  <th>Model:</th>           <td>SARIMAX(0, 1, 0)</td> <th>  Log Likelihood     </th> <td>-2845.920</td>\n",
       "</tr>\n",
       "<tr>\n",
       "  <th>Date:</th>            <td>Sun, 08 Sep 2024</td> <th>  AIC                </th> <td>5693.839</td> \n",
       "</tr>\n",
       "<tr>\n",
       "  <th>Time:</th>                <td>13:25:21</td>     <th>  BIC                </th> <td>5698.548</td> \n",
       "</tr>\n",
       "<tr>\n",
       "  <th>Sample:</th>             <td>11-10-2021</td>    <th>  HQIC               </th> <td>5695.646</td> \n",
       "</tr>\n",
       "<tr>\n",
       "  <th></th>                   <td>- 02-07-2024</td>   <th>                     </th>     <td> </td>    \n",
       "</tr>\n",
       "<tr>\n",
       "  <th>Covariance Type:</th>        <td>opg</td>       <th>                     </th>     <td> </td>    \n",
       "</tr>\n",
       "</table>\n",
       "<table class=\"simpletable\">\n",
       "<tr>\n",
       "     <td></td>       <th>coef</th>     <th>std err</th>      <th>z</th>      <th>P>|z|</th>  <th>[0.025</th>    <th>0.975]</th>  \n",
       "</tr>\n",
       "<tr>\n",
       "  <th>sigma2</th> <td>   61.0625</td> <td>    1.682</td> <td>   36.294</td> <td> 0.000</td> <td>   57.765</td> <td>   64.360</td>\n",
       "</tr>\n",
       "</table>\n",
       "<table class=\"simpletable\">\n",
       "<tr>\n",
       "  <th>Ljung-Box (L1) (Q):</th>     <td>0.65</td> <th>  Jarque-Bera (JB):  </th> <td>671.14</td>\n",
       "</tr>\n",
       "<tr>\n",
       "  <th>Prob(Q):</th>                <td>0.42</td> <th>  Prob(JB):          </th>  <td>0.00</td> \n",
       "</tr>\n",
       "<tr>\n",
       "  <th>Heteroskedasticity (H):</th> <td>0.32</td> <th>  Skew:              </th>  <td>-0.16</td>\n",
       "</tr>\n",
       "<tr>\n",
       "  <th>Prob(H) (two-sided):</th>    <td>0.00</td> <th>  Kurtosis:          </th>  <td>7.42</td> \n",
       "</tr>\n",
       "</table><br/><br/>Warnings:<br/>[1] Covariance matrix calculated using the outer product of gradients (complex-step)."
      ],
      "text/latex": [
       "\\begin{center}\n",
       "\\begin{tabular}{lclc}\n",
       "\\toprule\n",
       "\\textbf{Dep. Variable:}          &        y         & \\textbf{  No. Observations:  } &    820      \\\\\n",
       "\\textbf{Model:}                  & SARIMAX(0, 1, 0) & \\textbf{  Log Likelihood     } & -2845.920   \\\\\n",
       "\\textbf{Date:}                   & Sun, 08 Sep 2024 & \\textbf{  AIC                } &  5693.839   \\\\\n",
       "\\textbf{Time:}                   &     13:25:21     & \\textbf{  BIC                } &  5698.548   \\\\\n",
       "\\textbf{Sample:}                 &    11-10-2021    & \\textbf{  HQIC               } &  5695.646   \\\\\n",
       "\\textbf{}                        &   - 02-07-2024   & \\textbf{                     } &             \\\\\n",
       "\\textbf{Covariance Type:}        &       opg        & \\textbf{                     } &             \\\\\n",
       "\\bottomrule\n",
       "\\end{tabular}\n",
       "\\begin{tabular}{lcccccc}\n",
       "                & \\textbf{coef} & \\textbf{std err} & \\textbf{z} & \\textbf{P$> |$z$|$} & \\textbf{[0.025} & \\textbf{0.975]}  \\\\\n",
       "\\midrule\n",
       "\\textbf{sigma2} &      61.0625  &        1.682     &    36.294  &         0.000        &       57.765    &       64.360     \\\\\n",
       "\\bottomrule\n",
       "\\end{tabular}\n",
       "\\begin{tabular}{lclc}\n",
       "\\textbf{Ljung-Box (L1) (Q):}     & 0.65 & \\textbf{  Jarque-Bera (JB):  } & 671.14  \\\\\n",
       "\\textbf{Prob(Q):}                & 0.42 & \\textbf{  Prob(JB):          } &  0.00   \\\\\n",
       "\\textbf{Heteroskedasticity (H):} & 0.32 & \\textbf{  Skew:              } & -0.16   \\\\\n",
       "\\textbf{Prob(H) (two-sided):}    & 0.00 & \\textbf{  Kurtosis:          } &  7.42   \\\\\n",
       "\\bottomrule\n",
       "\\end{tabular}\n",
       "%\\caption{SARIMAX Results}\n",
       "\\end{center}\n",
       "\n",
       "Warnings: \\newline\n",
       " [1] Covariance matrix calculated using the outer product of gradients (complex-step)."
      ],
      "text/plain": [
       "<class 'statsmodels.iolib.summary.Summary'>\n",
       "\"\"\"\n",
       "                               SARIMAX Results                                \n",
       "==============================================================================\n",
       "Dep. Variable:                      y   No. Observations:                  820\n",
       "Model:               SARIMAX(0, 1, 0)   Log Likelihood               -2845.920\n",
       "Date:                Sun, 08 Sep 2024   AIC                           5693.839\n",
       "Time:                        13:25:21   BIC                           5698.548\n",
       "Sample:                    11-10-2021   HQIC                          5695.646\n",
       "                         - 02-07-2024                                         \n",
       "Covariance Type:                  opg                                         \n",
       "==============================================================================\n",
       "                 coef    std err          z      P>|z|      [0.025      0.975]\n",
       "------------------------------------------------------------------------------\n",
       "sigma2        61.0625      1.682     36.294      0.000      57.765      64.360\n",
       "===================================================================================\n",
       "Ljung-Box (L1) (Q):                   0.65   Jarque-Bera (JB):               671.14\n",
       "Prob(Q):                              0.42   Prob(JB):                         0.00\n",
       "Heteroskedasticity (H):               0.32   Skew:                            -0.16\n",
       "Prob(H) (two-sided):                  0.00   Kurtosis:                         7.42\n",
       "===================================================================================\n",
       "\n",
       "Warnings:\n",
       "[1] Covariance matrix calculated using the outer product of gradients (complex-step).\n",
       "\"\"\""
      ]
     },
     "execution_count": 18,
     "metadata": {},
     "output_type": "execute_result"
    }
   ],
   "source": [
    "tesla_pmdarima.summary()"
   ]
  },
  {
   "cell_type": "markdown",
   "metadata": {},
   "source": [
    "Auto ARIMA results indicate that the best model is:  \n",
    "1. ARIMA(0,1,0)(0,0,0)[0] / AIC = 5693.839  \n",
    "2. ARIMA(1,1,0)(0,0,0)[0] / AIC = 5696.624  \n",
    "3. ARIMA(0,1,1)(0,0,0)[0] / AIC = 5696.631\n",
    "4. ARIMA(1,1,1)(0,0,0)[0] / AIC = 5697.478    \n",
    "\n",
    "The difference between the evaluation metric of these four models is very short. It is not possible to say that the first model is significantly better."
   ]
  },
  {
   "cell_type": "markdown",
   "metadata": {},
   "source": [
    "### Find the best parameters for the ARIMA model"
   ]
  },
  {
   "cell_type": "markdown",
   "metadata": {},
   "source": [
    "Time Series Split"
   ]
  },
  {
   "cell_type": "code",
   "execution_count": 19,
   "metadata": {},
   "outputs": [],
   "source": [
    "n_splits = 3\n",
    "tscv = TimeSeriesSplit(n_splits = n_splits)"
   ]
  },
  {
   "cell_type": "markdown",
   "metadata": {},
   "source": [
    "ARIMA Model 1"
   ]
  },
  {
   "cell_type": "code",
   "execution_count": 20,
   "metadata": {},
   "outputs": [
    {
     "name": "stdout",
     "output_type": "stream",
     "text": [
      "Fold 1\n",
      "Training set size: 205, Validation set size: 205\n",
      "MAE: 42.6041, RMSE: 50.6082, AIC: 1563.3632, BIC: 1566.6814\n",
      "---\n",
      "Fold 2\n",
      "Training set size: 410, Validation set size: 205\n",
      "MAE: 69.5903, RMSE: 81.6534, AIC: 2993.5914, BIC: 2997.6051\n",
      "---\n",
      "Fold 3\n",
      "Training set size: 615, Validation set size: 205\n",
      "MAE: 52.5925, RMSE: 57.2586, AIC: 4346.8568, BIC: 4351.2768\n",
      "---\n",
      "Average MAE: 54.9290\n",
      "Average RMSE: 63.1734\n",
      "Average AIC: 2967.9371\n",
      "Average BIC: 2971.8544\n"
     ]
    }
   ],
   "source": [
    "# Lists to store metrics for each fold\n",
    "mae_scores = []\n",
    "rmse_scores = []\n",
    "aic_scores = []\n",
    "bic_scores = []\n",
    "\n",
    "# Loop through the splits\n",
    "for fold, (train_index, val_index) in enumerate(tscv.split(train)):\n",
    "    train_data = train.iloc[train_index]\n",
    "    val_data = train.iloc[val_index]\n",
    "\n",
    "    # Fit ARIMA model on train data\n",
    "    model = ARIMA(train_data['Tesla'], order = (0, 1, 0))  \n",
    "    model_fit = model.fit()\n",
    "\n",
    "    # Forecast using the trained model for the test set\n",
    "    forecast = model_fit.forecast(steps=len(val_data))\n",
    "\n",
    "    # Calculate evaluation metrics\n",
    "    mae = mean_absolute_error(val_data['Tesla'].values, forecast)\n",
    "    rmse = np.sqrt(mean_squared_error(val_data['Tesla'].values, forecast))\n",
    "    \n",
    "    # Append AIC and BIC from model fit\n",
    "    aic = model_fit.aic\n",
    "    bic = model_fit.bic\n",
    "\n",
    "    # Store the metrics for each fold\n",
    "    mae_scores.append(mae)\n",
    "    rmse_scores.append(rmse)\n",
    "    aic_scores.append(aic)\n",
    "    bic_scores.append(bic)\n",
    "\n",
    "    # Output results for this fold\n",
    "    print(f'Fold {fold + 1}')\n",
    "    print(f'Training set size: {len(train_data)}, Validation set size: {len(val_data)}')\n",
    "    print(f'MAE: {mae:.4f}, RMSE: {rmse:.4f}, AIC: {aic:.4f}, BIC: {bic:.4f}')\n",
    "    print('---')\n",
    "\n",
    "# Save evaluation metrics of the model\n",
    "avg_mae_arima1 =  np.mean(mae_scores)\n",
    "avg_rmse_arima1 = np.mean(rmse_scores)\n",
    "avg_aic_arima1 = np.mean(aic_scores)\n",
    "avg_bic_arima1 = np.mean(bic_scores)\n",
    "\n",
    "# Output the average performance across all folds\n",
    "print(f'Average MAE: {avg_mae_arima1:.4f}')\n",
    "print(f'Average RMSE: {avg_rmse_arima1:.4f}')\n",
    "print(f'Average AIC: {avg_aic_arima1:.4f}')\n",
    "print(f'Average BIC: {avg_bic_arima1:.4f}')"
   ]
  },
  {
   "cell_type": "markdown",
   "metadata": {},
   "source": [
    "ARIMA Model 2"
   ]
  },
  {
   "cell_type": "code",
   "execution_count": 21,
   "metadata": {},
   "outputs": [
    {
     "name": "stdout",
     "output_type": "stream",
     "text": [
      "Fold 1\n",
      "Training set size: 205, Validation set size: 205\n",
      "MAE: 42.4680, RMSE: 50.4090, AIC: 1564.9632, BIC: 1571.5994\n",
      "---\n",
      "Fold 2\n",
      "Training set size: 410, Validation set size: 205\n",
      "MAE: 69.5903, RMSE: 81.6534, AIC: 2994.6793, BIC: 3002.7067\n",
      "---\n",
      "Fold 3\n",
      "Training set size: 615, Validation set size: 205\n",
      "MAE: 52.2328, RMSE: 56.9220, AIC: 4347.7463, BIC: 4356.5862\n",
      "---\n",
      "Average MAE: 54.7637\n",
      "Average RMSE: 62.9948\n",
      "Average AIC: 2969.1296\n",
      "Average BIC: 2976.9641\n"
     ]
    }
   ],
   "source": [
    "# Lists to store metrics for each fold\n",
    "mae_scores = []\n",
    "rmse_scores = []\n",
    "aic_scores = []\n",
    "bic_scores = []\n",
    "\n",
    "# Loop through the splits\n",
    "for fold, (train_index, val_index) in enumerate(tscv.split(train)):\n",
    "    train_data = train.iloc[train_index]\n",
    "    val_data = train.iloc[val_index]\n",
    "\n",
    "    # Fit ARIMA model on train data\n",
    "    model = ARIMA(train_data['Tesla'], order = (1, 1, 0))  \n",
    "    model_fit = model.fit()\n",
    "\n",
    "    # Forecast using the trained model for the test set\n",
    "    forecast = model_fit.forecast(steps=len(val_data))\n",
    "\n",
    "    # Calculate evaluation metrics\n",
    "    mae = mean_absolute_error(val_data['Tesla'].values, forecast)\n",
    "    rmse = np.sqrt(mean_squared_error(val_data['Tesla'].values, forecast))\n",
    "    \n",
    "    # Append AIC and BIC from model fit\n",
    "    aic = model_fit.aic\n",
    "    bic = model_fit.bic\n",
    "\n",
    "    # Store the metrics for each fold\n",
    "    mae_scores.append(mae)\n",
    "    rmse_scores.append(rmse)\n",
    "    aic_scores.append(aic)\n",
    "    bic_scores.append(bic)\n",
    "\n",
    "    # Output results for this fold\n",
    "    print(f'Fold {fold + 1}')\n",
    "    print(f'Training set size: {len(train_data)}, Validation set size: {len(val_data)}')\n",
    "    print(f'MAE: {mae:.4f}, RMSE: {rmse:.4f}, AIC: {aic:.4f}, BIC: {bic:.4f}')\n",
    "    print('---')\n",
    "\n",
    "# Save evaluation metrics of the model\n",
    "avg_mae_arima2 =  np.mean(mae_scores)\n",
    "avg_rmse_arima2 = np.mean(rmse_scores)\n",
    "avg_aic_arima2 = np.mean(aic_scores)\n",
    "avg_bic_arima2 = np.mean(bic_scores)\n",
    "\n",
    "# Output the average performance across all folds\n",
    "print(f'Average MAE: {avg_mae_arima2:.4f}')\n",
    "print(f'Average RMSE: {avg_rmse_arima2:.4f}')\n",
    "print(f'Average AIC: {avg_aic_arima2:.4f}')\n",
    "print(f'Average BIC: {avg_bic_arima2:.4f}')"
   ]
  },
  {
   "cell_type": "markdown",
   "metadata": {},
   "source": [
    "ARIMA Model 3"
   ]
  },
  {
   "cell_type": "code",
   "execution_count": 22,
   "metadata": {},
   "outputs": [
    {
     "name": "stdout",
     "output_type": "stream",
     "text": [
      "Fold 1\n",
      "Training set size: 205, Validation set size: 205\n",
      "MAE: 42.4558, RMSE: 50.3913, AIC: 1564.9357, BIC: 1571.5719\n",
      "---\n",
      "Fold 2\n",
      "Training set size: 410, Validation set size: 205\n",
      "MAE: 69.5852, RMSE: 81.6482, AIC: 2994.6805, BIC: 3002.7079\n",
      "---\n",
      "Fold 3\n",
      "Training set size: 615, Validation set size: 205\n",
      "MAE: 52.2213, RMSE: 56.9113, AIC: 4347.7590, BIC: 4356.5990\n",
      "---\n",
      "Average MAE: 54.7541\n",
      "Average RMSE: 62.9836\n",
      "Average AIC: 2969.1251\n",
      "Average BIC: 2976.9596\n"
     ]
    }
   ],
   "source": [
    "# Lists to store metrics for each fold\n",
    "mae_scores = []\n",
    "rmse_scores = []\n",
    "aic_scores = []\n",
    "bic_scores = []\n",
    "\n",
    "# Loop through the splits\n",
    "for fold, (train_index, val_index) in enumerate(tscv.split(train)):\n",
    "    train_data = train.iloc[train_index]\n",
    "    val_data = train.iloc[val_index]\n",
    "\n",
    "    # Fit ARIMA model on train data\n",
    "    model = ARIMA(train_data['Tesla'], order = (0, 1, 1))  \n",
    "    model_fit = model.fit()\n",
    "\n",
    "    # Forecast using the trained model for the test set\n",
    "    forecast = model_fit.forecast(steps=len(val_data))\n",
    "\n",
    "    # Calculate evaluation metrics\n",
    "    mae = mean_absolute_error(val_data['Tesla'].values, forecast)\n",
    "    rmse = np.sqrt(mean_squared_error(val_data['Tesla'].values, forecast))\n",
    "    \n",
    "    # Append AIC and BIC from model fit\n",
    "    aic = model_fit.aic\n",
    "    bic = model_fit.bic\n",
    "\n",
    "    # Store the metrics for each fold\n",
    "    mae_scores.append(mae)\n",
    "    rmse_scores.append(rmse)\n",
    "    aic_scores.append(aic)\n",
    "    bic_scores.append(bic)\n",
    "\n",
    "    # Output results for this fold\n",
    "    print(f'Fold {fold + 1}')\n",
    "    print(f'Training set size: {len(train_data)}, Validation set size: {len(val_data)}')\n",
    "    print(f'MAE: {mae:.4f}, RMSE: {rmse:.4f}, AIC: {aic:.4f}, BIC: {bic:.4f}')\n",
    "    print('---')\n",
    "\n",
    "# Save evaluation metrics of the model\n",
    "avg_mae_arima3 =  np.mean(mae_scores)\n",
    "avg_rmse_arima3 = np.mean(rmse_scores)\n",
    "avg_aic_arima3 = np.mean(aic_scores)\n",
    "avg_bic_arima3 = np.mean(bic_scores)\n",
    "\n",
    "# Output the average performance across all folds\n",
    "print(f'Average MAE: {avg_mae_arima3:.4f}')\n",
    "print(f'Average RMSE: {avg_rmse_arima3:.4f}')\n",
    "print(f'Average AIC: {avg_aic_arima3:.4f}')\n",
    "print(f'Average BIC: {avg_bic_arima3:.4f}')"
   ]
  },
  {
   "cell_type": "markdown",
   "metadata": {},
   "source": [
    "ARIMA Model 4"
   ]
  },
  {
   "cell_type": "code",
   "execution_count": 23,
   "metadata": {},
   "outputs": [
    {
     "name": "stdout",
     "output_type": "stream",
     "text": [
      "Fold 1\n",
      "Training set size: 205, Validation set size: 205\n",
      "MAE: 42.2315, RMSE: 50.0619, AIC: 1566.4266, BIC: 1576.3809\n",
      "---\n",
      "Fold 2\n",
      "Training set size: 410, Validation set size: 205\n",
      "MAE: 69.5916, RMSE: 81.6546, AIC: 2996.6789, BIC: 3008.7201\n",
      "---\n",
      "Fold 3\n",
      "Training set size: 615, Validation set size: 205\n",
      "MAE: 52.4035, RMSE: 57.0817, AIC: 4349.1189, BIC: 4362.3789\n",
      "---\n",
      "Average MAE: 54.7422\n",
      "Average RMSE: 62.9328\n",
      "Average AIC: 2970.7415\n",
      "Average BIC: 2982.4933\n"
     ]
    }
   ],
   "source": [
    "# Lists to store metrics for each fold\n",
    "mae_scores = []\n",
    "rmse_scores = []\n",
    "aic_scores = []\n",
    "bic_scores = []\n",
    "\n",
    "# Loop through the splits\n",
    "for fold, (train_index, val_index) in enumerate(tscv.split(train)):\n",
    "    train_data = train.iloc[train_index]\n",
    "    val_data = train.iloc[val_index]\n",
    "\n",
    "    # Fit ARIMA model on train data\n",
    "    model = ARIMA(train_data['Tesla'], order = (1, 1, 1))  \n",
    "    model_fit = model.fit()\n",
    "\n",
    "    # Forecast using the trained model for the test set\n",
    "    forecast = model_fit.forecast(steps=len(val_data))\n",
    "\n",
    "    # Calculate evaluation metrics\n",
    "    mae = mean_absolute_error(val_data['Tesla'].values, forecast)\n",
    "    rmse = np.sqrt(mean_squared_error(val_data['Tesla'].values, forecast))\n",
    "    \n",
    "    # Append AIC and BIC from model fit\n",
    "    aic = model_fit.aic\n",
    "    bic = model_fit.bic\n",
    "\n",
    "    # Store the metrics for each fold\n",
    "    mae_scores.append(mae)\n",
    "    rmse_scores.append(rmse)\n",
    "    aic_scores.append(aic)\n",
    "    bic_scores.append(bic)\n",
    "\n",
    "    # Output results for this fold\n",
    "    print(f'Fold {fold + 1}')\n",
    "    print(f'Training set size: {len(train_data)}, Validation set size: {len(val_data)}')\n",
    "    print(f'MAE: {mae:.4f}, RMSE: {rmse:.4f}, AIC: {aic:.4f}, BIC: {bic:.4f}')\n",
    "    print('---')\n",
    "\n",
    "# Save evaluation metrics of the model\n",
    "avg_mae_arima4 =  np.mean(mae_scores)\n",
    "avg_rmse_arima4 = np.mean(rmse_scores)\n",
    "avg_aic_arima4 = np.mean(aic_scores)\n",
    "avg_bic_arima4 = np.mean(bic_scores)\n",
    "\n",
    "# Output the average performance across all folds\n",
    "print(f'Average MAE: {avg_mae_arima4:.4f}')\n",
    "print(f'Average RMSE: {avg_rmse_arima4:.4f}')\n",
    "print(f'Average AIC: {avg_aic_arima4:.4f}')\n",
    "print(f'Average BIC: {avg_bic_arima4:.4f}')"
   ]
  },
  {
   "cell_type": "markdown",
   "metadata": {},
   "source": [
    "ARIMA Models Summary"
   ]
  },
  {
   "cell_type": "code",
   "execution_count": 24,
   "metadata": {},
   "outputs": [],
   "source": [
    "MAE_values = [avg_mae_arima1, avg_mae_arima2, avg_mae_arima3, avg_mae_arima4]\n",
    "RMSE_vales = [avg_rmse_arima1, avg_rmse_arima2, avg_rmse_arima3, avg_rmse_arima4]\n",
    "AIC_values = [avg_aic_arima1, avg_aic_arima2, avg_aic_arima3, avg_aic_arima4]\n",
    "BIC_values = [avg_bic_arima1, avg_bic_arima2, avg_bic_arima3, avg_bic_arima4]"
   ]
  },
  {
   "cell_type": "code",
   "execution_count": 25,
   "metadata": {},
   "outputs": [
    {
     "data": {
      "text/html": [
       "<div>\n",
       "<style scoped>\n",
       "    .dataframe tbody tr th:only-of-type {\n",
       "        vertical-align: middle;\n",
       "    }\n",
       "\n",
       "    .dataframe tbody tr th {\n",
       "        vertical-align: top;\n",
       "    }\n",
       "\n",
       "    .dataframe thead th {\n",
       "        text-align: right;\n",
       "    }\n",
       "</style>\n",
       "<table border=\"1\" class=\"dataframe\">\n",
       "  <thead>\n",
       "    <tr style=\"text-align: right;\">\n",
       "      <th></th>\n",
       "      <th>ARIMA(0,1,0)</th>\n",
       "      <th>ARIMA(1,1,0)</th>\n",
       "      <th>ARIMA(0,1,1)</th>\n",
       "      <th>ARIMA(1,1,1)</th>\n",
       "    </tr>\n",
       "  </thead>\n",
       "  <tbody>\n",
       "    <tr>\n",
       "      <th>MAE</th>\n",
       "      <td>54.928999</td>\n",
       "      <td>54.763690</td>\n",
       "      <td>54.754103</td>\n",
       "      <td>54.742209</td>\n",
       "    </tr>\n",
       "    <tr>\n",
       "      <th>RMSE</th>\n",
       "      <td>63.173388</td>\n",
       "      <td>62.994787</td>\n",
       "      <td>62.983607</td>\n",
       "      <td>62.932761</td>\n",
       "    </tr>\n",
       "    <tr>\n",
       "      <th>AIC</th>\n",
       "      <td>2967.937139</td>\n",
       "      <td>2969.129569</td>\n",
       "      <td>2969.125052</td>\n",
       "      <td>2970.741464</td>\n",
       "    </tr>\n",
       "    <tr>\n",
       "      <th>BIC</th>\n",
       "      <td>2971.854416</td>\n",
       "      <td>2976.964122</td>\n",
       "      <td>2976.959605</td>\n",
       "      <td>2982.493294</td>\n",
       "    </tr>\n",
       "  </tbody>\n",
       "</table>\n",
       "</div>"
      ],
      "text/plain": [
       "      ARIMA(0,1,0)  ARIMA(1,1,0)  ARIMA(0,1,1)  ARIMA(1,1,1)\n",
       "MAE      54.928999     54.763690     54.754103     54.742209\n",
       "RMSE     63.173388     62.994787     62.983607     62.932761\n",
       "AIC    2967.937139   2969.129569   2969.125052   2970.741464\n",
       "BIC    2971.854416   2976.964122   2976.959605   2982.493294"
      ]
     },
     "execution_count": 25,
     "metadata": {},
     "output_type": "execute_result"
    }
   ],
   "source": [
    "arima_summary = pd.DataFrame(data = [MAE_values, RMSE_vales, AIC_values, BIC_values], index = [\"MAE\", \"RMSE\", \"AIC\", \"BIC\"], \n",
    "                             columns = [\"ARIMA(0,1,0)\", \"ARIMA(1,1,0)\", \"ARIMA(0,1,1)\", \"ARIMA(1,1,1)\"])\n",
    "arima_summary"
   ]
  },
  {
   "cell_type": "markdown",
   "metadata": {},
   "source": [
    "### Auto ARIMA + Exogenous Variables"
   ]
  },
  {
   "cell_type": "code",
   "execution_count": 26,
   "metadata": {},
   "outputs": [
    {
     "data": {
      "text/plain": [
       "Index(['Tesla', 'Nio', 'Rivian', 'Lucid Motors', 'Ford', 'General Motors',\n",
       "       'Interest Rate', 'CCI', 'Oil Prices', 'CPI', 'month', 'day', 'weekday',\n",
       "       'year', 'Tesla_mean_lag1', 'Tesla_mean_lag4', 'Tesla_mean_lag30',\n",
       "       'Tesla_std_lag4', 'Tesla_std_lag30', 'Nio_mean_lag1', 'Nio_mean_lag4',\n",
       "       'Nio_mean_lag30', 'Nio_std_lag4', 'Nio_std_lag30', 'Rivian_mean_lag1',\n",
       "       'Rivian_mean_lag4', 'Rivian_mean_lag30', 'Rivian_std_lag4',\n",
       "       'Rivian_std_lag30', 'Lucid Motors_mean_lag1', 'Lucid Motors_mean_lag4',\n",
       "       'Lucid Motors_mean_lag30', 'Lucid Motors_std_lag4',\n",
       "       'Lucid Motors_std_lag30', 'Ford_mean_lag1', 'Ford_mean_lag4',\n",
       "       'Ford_mean_lag30', 'Ford_std_lag4', 'Ford_std_lag30',\n",
       "       'General Motors_mean_lag1', 'General Motors_mean_lag4',\n",
       "       'General Motors_mean_lag30', 'General Motors_std_lag4',\n",
       "       'General Motors_std_lag30', 'Interest Rate_mean_lag1',\n",
       "       'Interest Rate_mean_lag4', 'Interest Rate_mean_lag30',\n",
       "       'Interest Rate_std_lag4', 'Interest Rate_std_lag30', 'CCI_mean_lag1',\n",
       "       'CCI_mean_lag4', 'CCI_mean_lag30', 'CCI_std_lag4', 'CCI_std_lag30',\n",
       "       'Oil Prices_mean_lag1', 'Oil Prices_mean_lag4', 'Oil Prices_mean_lag30',\n",
       "       'Oil Prices_std_lag4', 'Oil Prices_std_lag30', 'CPI_mean_lag1',\n",
       "       'CPI_mean_lag4', 'CPI_mean_lag30', 'CPI_std_lag4', 'CPI_std_lag30'],\n",
       "      dtype='object')"
      ]
     },
     "execution_count": 26,
     "metadata": {},
     "output_type": "execute_result"
    }
   ],
   "source": [
    "data.columns"
   ]
  },
  {
   "cell_type": "markdown",
   "metadata": {},
   "source": [
    "Exogeneous Variables"
   ]
  },
  {
   "cell_type": "markdown",
   "metadata": {},
   "source": [
    "ARIMAX model 1"
   ]
  },
  {
   "cell_type": "code",
   "execution_count": 27,
   "metadata": {},
   "outputs": [
    {
     "name": "stdout",
     "output_type": "stream",
     "text": [
      "Fold 1\n",
      "Training set size: 205, Validation set size: 205\n",
      "MAE: 382.9954, RMSE: 409.9307, AIC: 1422.4566, BIC: 1634.8162\n",
      "---\n",
      "Fold 2\n",
      "Training set size: 410, Validation set size: 205\n",
      "MAE: 40.6681, RMSE: 49.9681, AIC: 2724.4990, BIC: 2981.3768\n",
      "---\n",
      "Fold 3\n",
      "Training set size: 615, Validation set size: 205\n",
      "MAE: 23.3063, RMSE: 26.5709, AIC: 4006.9338, BIC: 4289.8135\n",
      "---\n",
      "Average MAE: 148.9900\n",
      "Average RMSE: 162.1566\n",
      "Average AIC: 2717.9631\n",
      "Average BIC: 2968.6689\n"
     ]
    }
   ],
   "source": [
    "# Lists to store metrics for each fold\n",
    "mae_scores = []\n",
    "rmse_scores = []\n",
    "aic_scores = []\n",
    "bic_scores = []\n",
    "\n",
    "# Loop through the splits\n",
    "for fold, (train_index, val_index) in enumerate(tscv.split(train)):\n",
    "    train_data = train.iloc[train_index]\n",
    "    val_data = train.iloc[val_index]\n",
    "\n",
    "    # Fit ARIMA model on train data\n",
    "    model = ARIMA(train_data['Tesla'], order = (0, 1, 0), exog = train_data.drop(columns = [\"Tesla\"]))  \n",
    "    model_fit = model.fit()\n",
    "\n",
    "    # Forecast using the trained model for the test set\n",
    "    forecast = model_fit.forecast(steps=len(val_data), exog = val_data.drop(columns = [\"Tesla\"]))\n",
    "\n",
    "    # Calculate evaluation metrics\n",
    "    mae = mean_absolute_error(val_data['Tesla'].values, forecast)\n",
    "    rmse = np.sqrt(mean_squared_error(val_data['Tesla'].values, forecast))\n",
    "    \n",
    "    # Append AIC and BIC from model fit\n",
    "    aic = model_fit.aic\n",
    "    bic = model_fit.bic\n",
    "\n",
    "    # Store the metrics for each fold\n",
    "    mae_scores.append(mae)\n",
    "    rmse_scores.append(rmse)\n",
    "    aic_scores.append(aic)\n",
    "    bic_scores.append(bic)\n",
    "\n",
    "    # Output results for this fold\n",
    "    print(f'Fold {fold + 1}')\n",
    "    print(f'Training set size: {len(train_data)}, Validation set size: {len(val_data)}')\n",
    "    print(f'MAE: {mae:.4f}, RMSE: {rmse:.4f}, AIC: {aic:.4f}, BIC: {bic:.4f}')\n",
    "    print('---')\n",
    "\n",
    "# Save evaluation metrics of the model\n",
    "avg_mae_arimax1 =  np.mean(mae_scores)\n",
    "avg_rmse_arimax1 = np.mean(rmse_scores)\n",
    "avg_aic_arimax1 = np.mean(aic_scores)\n",
    "avg_bic_arimax1 = np.mean(bic_scores)\n",
    "\n",
    "# Output the average performance across all folds\n",
    "print(f'Average MAE: {avg_mae_arimax1:.4f}')\n",
    "print(f'Average RMSE: {avg_rmse_arimax1:.4f}')\n",
    "print(f'Average AIC: {avg_aic_arimax1:.4f}')\n",
    "print(f'Average BIC: {avg_bic_arimax1:.4f}')"
   ]
  },
  {
   "cell_type": "markdown",
   "metadata": {},
   "source": [
    "ARIMAX model 2"
   ]
  },
  {
   "cell_type": "code",
   "execution_count": 28,
   "metadata": {},
   "outputs": [
    {
     "name": "stdout",
     "output_type": "stream",
     "text": [
      "Fold 1\n",
      "Training set size: 205, Validation set size: 205\n",
      "MAE: 392.2137, RMSE: 419.4093, AIC: 1419.7668, BIC: 1635.4446\n",
      "---\n",
      "Fold 2\n",
      "Training set size: 410, Validation set size: 205\n",
      "MAE: 41.2388, RMSE: 50.7175, AIC: 2726.0594, BIC: 2986.9509\n",
      "---\n",
      "Fold 3\n",
      "Training set size: 615, Validation set size: 205\n",
      "MAE: 21.8879, RMSE: 24.8541, AIC: 4006.6780, BIC: 4293.9777\n",
      "---\n",
      "Average MAE: 151.7801\n",
      "Average RMSE: 164.9936\n",
      "Average AIC: 2717.5014\n",
      "Average BIC: 2972.1244\n"
     ]
    }
   ],
   "source": [
    "# Lists to store metrics for each fold\n",
    "mae_scores = []\n",
    "rmse_scores = []\n",
    "aic_scores = []\n",
    "bic_scores = []\n",
    "\n",
    "# Loop through the splits\n",
    "for fold, (train_index, val_index) in enumerate(tscv.split(train)):\n",
    "    train_data = train.iloc[train_index]\n",
    "    val_data = train.iloc[val_index]\n",
    "\n",
    "    # Fit ARIMA model on train data\n",
    "    model = ARIMA(train_data['Tesla'], order = (1, 1, 0), exog = train_data.drop(columns = [\"Tesla\"]))  \n",
    "    model_fit = model.fit()\n",
    "\n",
    "    # Forecast using the trained model for the test set\n",
    "    forecast = model_fit.forecast(steps=len(val_data), exog = val_data.drop(columns = [\"Tesla\"]))\n",
    "\n",
    "    # Calculate evaluation metrics\n",
    "    mae = mean_absolute_error(val_data['Tesla'].values, forecast)\n",
    "    rmse = np.sqrt(mean_squared_error(val_data['Tesla'].values, forecast))\n",
    "    \n",
    "    # Append AIC and BIC from model fit\n",
    "    aic = model_fit.aic\n",
    "    bic = model_fit.bic\n",
    "\n",
    "    # Store the metrics for each fold\n",
    "    mae_scores.append(mae)\n",
    "    rmse_scores.append(rmse)\n",
    "    aic_scores.append(aic)\n",
    "    bic_scores.append(bic)\n",
    "\n",
    "    # Output results for this fold\n",
    "    print(f'Fold {fold + 1}')\n",
    "    print(f'Training set size: {len(train_data)}, Validation set size: {len(val_data)}')\n",
    "    print(f'MAE: {mae:.4f}, RMSE: {rmse:.4f}, AIC: {aic:.4f}, BIC: {bic:.4f}')\n",
    "    print('---')\n",
    "\n",
    "# Save evaluation metrics of the model\n",
    "avg_mae_arimax2 =  np.mean(mae_scores)\n",
    "avg_rmse_arimax2 = np.mean(rmse_scores)\n",
    "avg_aic_arimax2 = np.mean(aic_scores)\n",
    "avg_bic_arimax2 = np.mean(bic_scores)\n",
    "\n",
    "# Output the average performance across all folds\n",
    "print(f'Average MAE: {avg_mae_arimax2:.4f}')\n",
    "print(f'Average RMSE: {avg_rmse_arimax2:.4f}')\n",
    "print(f'Average AIC: {avg_aic_arimax2:.4f}')\n",
    "print(f'Average BIC: {avg_bic_arimax2:.4f}')"
   ]
  },
  {
   "cell_type": "markdown",
   "metadata": {},
   "source": [
    "ARIMAX model 3"
   ]
  },
  {
   "cell_type": "code",
   "execution_count": 29,
   "metadata": {},
   "outputs": [
    {
     "name": "stdout",
     "output_type": "stream",
     "text": [
      "Fold 1\n",
      "Training set size: 205, Validation set size: 205\n",
      "MAE: 392.2312, RMSE: 419.6434, AIC: 1418.8097, BIC: 1634.4875\n",
      "---\n",
      "Fold 2\n",
      "Training set size: 410, Validation set size: 205\n",
      "MAE: 41.0861, RMSE: 50.5495, AIC: 2726.1984, BIC: 2987.0898\n",
      "---\n",
      "Fold 3\n",
      "Training set size: 615, Validation set size: 205\n",
      "MAE: 22.2957, RMSE: 25.3392, AIC: 4007.4181, BIC: 4294.7178\n",
      "---\n",
      "Average MAE: 151.8710\n",
      "Average RMSE: 165.1773\n",
      "Average AIC: 2717.4754\n",
      "Average BIC: 2972.0984\n"
     ]
    }
   ],
   "source": [
    "# Lists to store metrics for each fold\n",
    "mae_scores = []\n",
    "rmse_scores = []\n",
    "aic_scores = []\n",
    "bic_scores = []\n",
    "\n",
    "# Loop through the splits\n",
    "for fold, (train_index, val_index) in enumerate(tscv.split(train)):\n",
    "    train_data = train.iloc[train_index]\n",
    "    val_data = train.iloc[val_index]\n",
    "\n",
    "    # Fit ARIMA model on train data\n",
    "    model = ARIMA(train_data['Tesla'], order = (0, 1, 1), exog = train_data.drop(columns = [\"Tesla\"]))  \n",
    "    model_fit = model.fit()\n",
    "\n",
    "    # Forecast using the trained model for the test set\n",
    "    forecast = model_fit.forecast(steps=len(val_data), exog = val_data.drop(columns = [\"Tesla\"]))\n",
    "\n",
    "    # Calculate evaluation metrics\n",
    "    mae = mean_absolute_error(val_data['Tesla'].values, forecast)\n",
    "    rmse = np.sqrt(mean_squared_error(val_data['Tesla'].values, forecast))\n",
    "    \n",
    "    # Append AIC and BIC from model fit\n",
    "    aic = model_fit.aic\n",
    "    bic = model_fit.bic\n",
    "\n",
    "    # Store the metrics for each fold\n",
    "    mae_scores.append(mae)\n",
    "    rmse_scores.append(rmse)\n",
    "    aic_scores.append(aic)\n",
    "    bic_scores.append(bic)\n",
    "\n",
    "    # Output results for this fold\n",
    "    print(f'Fold {fold + 1}')\n",
    "    print(f'Training set size: {len(train_data)}, Validation set size: {len(val_data)}')\n",
    "    print(f'MAE: {mae:.4f}, RMSE: {rmse:.4f}, AIC: {aic:.4f}, BIC: {bic:.4f}')\n",
    "    print('---')\n",
    "\n",
    "# Save evaluation metrics of the model\n",
    "avg_mae_arimax3 =  np.mean(mae_scores)\n",
    "avg_rmse_arimax3 = np.mean(rmse_scores)\n",
    "avg_aic_arimax3 = np.mean(aic_scores)\n",
    "avg_bic_arimax3 = np.mean(bic_scores)\n",
    "\n",
    "# Output the average performance across all folds\n",
    "print(f'Average MAE: {avg_mae_arimax3:.4f}')\n",
    "print(f'Average RMSE: {avg_rmse_arimax3:.4f}')\n",
    "print(f'Average AIC: {avg_aic_arimax3:.4f}')\n",
    "print(f'Average BIC: {avg_bic_arimax3:.4f}')"
   ]
  },
  {
   "cell_type": "markdown",
   "metadata": {},
   "source": [
    "ARIMAX model 4"
   ]
  },
  {
   "cell_type": "code",
   "execution_count": 30,
   "metadata": {},
   "outputs": [
    {
     "name": "stdout",
     "output_type": "stream",
     "text": [
      "Fold 1\n",
      "Training set size: 205, Validation set size: 205\n",
      "MAE: 392.1177, RMSE: 419.6140, AIC: 1420.7953, BIC: 1639.7913\n",
      "---\n",
      "Fold 2\n",
      "Training set size: 410, Validation set size: 205\n",
      "MAE: 40.5609, RMSE: 49.9677, AIC: 2726.9101, BIC: 2991.8153\n",
      "---\n",
      "Fold 3\n",
      "Training set size: 615, Validation set size: 205\n",
      "MAE: 22.0141, RMSE: 24.9813, AIC: 4007.5678, BIC: 4299.2875\n",
      "---\n",
      "Average MAE: 151.5643\n",
      "Average RMSE: 164.8544\n",
      "Average AIC: 2718.4244\n",
      "Average BIC: 2976.9647\n"
     ]
    }
   ],
   "source": [
    "# Lists to store metrics for each fold\n",
    "mae_scores = []\n",
    "rmse_scores = []\n",
    "aic_scores = []\n",
    "bic_scores = []\n",
    "\n",
    "# Loop through the splits\n",
    "for fold, (train_index, val_index) in enumerate(tscv.split(train)):\n",
    "    train_data = train.iloc[train_index]\n",
    "    val_data = train.iloc[val_index]\n",
    "\n",
    "    # Fit ARIMA model on train data\n",
    "    model = ARIMA(train_data['Tesla'], order = (1, 1, 1), exog = train_data.drop(columns = [\"Tesla\"]))  \n",
    "    model_fit = model.fit()\n",
    "\n",
    "    # Forecast using the trained model for the test set\n",
    "    forecast = model_fit.forecast(steps=len(val_data), exog = val_data.drop(columns = [\"Tesla\"]))\n",
    "\n",
    "    # Calculate evaluation metrics\n",
    "    mae = mean_absolute_error(val_data['Tesla'].values, forecast)\n",
    "    rmse = np.sqrt(mean_squared_error(val_data['Tesla'].values, forecast))\n",
    "    \n",
    "    # Append AIC and BIC from model fit\n",
    "    aic = model_fit.aic\n",
    "    bic = model_fit.bic\n",
    "\n",
    "    # Store the metrics for each fold\n",
    "    mae_scores.append(mae)\n",
    "    rmse_scores.append(rmse)\n",
    "    aic_scores.append(aic)\n",
    "    bic_scores.append(bic)\n",
    "\n",
    "    # Output results for this fold\n",
    "    print(f'Fold {fold + 1}')\n",
    "    print(f'Training set size: {len(train_data)}, Validation set size: {len(val_data)}')\n",
    "    print(f'MAE: {mae:.4f}, RMSE: {rmse:.4f}, AIC: {aic:.4f}, BIC: {bic:.4f}')\n",
    "    print('---')\n",
    "\n",
    "# Save evaluation metrics of the model\n",
    "avg_mae_arimax4 =  np.mean(mae_scores)\n",
    "avg_rmse_arimax4 = np.mean(rmse_scores)\n",
    "avg_aic_arimax4 = np.mean(aic_scores)\n",
    "avg_bic_arimax4 = np.mean(bic_scores)\n",
    "\n",
    "# Output the average performance across all folds\n",
    "print(f'Average MAE: {avg_mae_arimax4:.4f}')\n",
    "print(f'Average RMSE: {avg_rmse_arimax4:.4f}')\n",
    "print(f'Average AIC: {avg_aic_arimax4:.4f}')\n",
    "print(f'Average BIC: {avg_bic_arimax4:.4f}')"
   ]
  },
  {
   "cell_type": "markdown",
   "metadata": {},
   "source": [
    "ARIMAX Models Summary"
   ]
  },
  {
   "cell_type": "code",
   "execution_count": 31,
   "metadata": {},
   "outputs": [],
   "source": [
    "MAE_values2 = [avg_mae_arimax1, avg_mae_arimax2, avg_mae_arimax3, avg_mae_arimax4]\n",
    "RMSE_vales2 = [avg_rmse_arimax1, avg_rmse_arimax2, avg_rmse_arimax3, avg_rmse_arimax4]\n",
    "AIC_values2 = [avg_aic_arimax1, avg_aic_arimax2, avg_aic_arimax3, avg_aic_arimax4]\n",
    "BIC_values2 = [avg_bic_arimax1, avg_bic_arimax2, avg_bic_arimax3, avg_bic_arimax4]"
   ]
  },
  {
   "cell_type": "code",
   "execution_count": 32,
   "metadata": {},
   "outputs": [
    {
     "data": {
      "text/html": [
       "<div>\n",
       "<style scoped>\n",
       "    .dataframe tbody tr th:only-of-type {\n",
       "        vertical-align: middle;\n",
       "    }\n",
       "\n",
       "    .dataframe tbody tr th {\n",
       "        vertical-align: top;\n",
       "    }\n",
       "\n",
       "    .dataframe thead th {\n",
       "        text-align: right;\n",
       "    }\n",
       "</style>\n",
       "<table border=\"1\" class=\"dataframe\">\n",
       "  <thead>\n",
       "    <tr style=\"text-align: right;\">\n",
       "      <th></th>\n",
       "      <th>ARIMAX(0,1,0)</th>\n",
       "      <th>ARIMAX(1,1,0)</th>\n",
       "      <th>ARIMAX(0,1,1)</th>\n",
       "      <th>ARIMAX(1,1,1)</th>\n",
       "    </tr>\n",
       "  </thead>\n",
       "  <tbody>\n",
       "    <tr>\n",
       "      <th>MAE</th>\n",
       "      <td>148.989954</td>\n",
       "      <td>151.780150</td>\n",
       "      <td>151.871022</td>\n",
       "      <td>151.564256</td>\n",
       "    </tr>\n",
       "    <tr>\n",
       "      <th>RMSE</th>\n",
       "      <td>162.156566</td>\n",
       "      <td>164.993619</td>\n",
       "      <td>165.177348</td>\n",
       "      <td>164.854365</td>\n",
       "    </tr>\n",
       "    <tr>\n",
       "      <th>AIC</th>\n",
       "      <td>2717.963147</td>\n",
       "      <td>2717.501396</td>\n",
       "      <td>2717.475376</td>\n",
       "      <td>2718.424425</td>\n",
       "    </tr>\n",
       "    <tr>\n",
       "      <th>BIC</th>\n",
       "      <td>2968.668855</td>\n",
       "      <td>2972.124381</td>\n",
       "      <td>2972.098361</td>\n",
       "      <td>2976.964687</td>\n",
       "    </tr>\n",
       "  </tbody>\n",
       "</table>\n",
       "</div>"
      ],
      "text/plain": [
       "      ARIMAX(0,1,0)  ARIMAX(1,1,0)  ARIMAX(0,1,1)  ARIMAX(1,1,1)\n",
       "MAE      148.989954     151.780150     151.871022     151.564256\n",
       "RMSE     162.156566     164.993619     165.177348     164.854365\n",
       "AIC     2717.963147    2717.501396    2717.475376    2718.424425\n",
       "BIC     2968.668855    2972.124381    2972.098361    2976.964687"
      ]
     },
     "execution_count": 32,
     "metadata": {},
     "output_type": "execute_result"
    }
   ],
   "source": [
    "arimax_summary = pd.DataFrame(data = [MAE_values2, RMSE_vales2, AIC_values2, BIC_values2], index = [\"MAE\", \"RMSE\", \"AIC\", \"BIC\"], \n",
    "                             columns = [\"ARIMAX(0,1,0)\", \"ARIMAX(1,1,0)\", \"ARIMAX(0,1,1)\", \"ARIMAX(1,1,1)\"])\n",
    "arimax_summary"
   ]
  },
  {
   "cell_type": "markdown",
   "metadata": {},
   "source": [
    "### ML Approach"
   ]
  },
  {
   "cell_type": "code",
   "execution_count": 33,
   "metadata": {},
   "outputs": [
    {
     "name": "stdout",
     "output_type": "stream",
     "text": [
      "Fold 1\n",
      "Training set size: 205, Validation set size: 205\n",
      "MAE: 516.7543, RMSE: 558.9326\n",
      "---\n",
      "Fold 2\n",
      "Training set size: 410, Validation set size: 205\n",
      "MAE: 48.0979, RMSE: 61.7602\n",
      "---\n",
      "Fold 3\n",
      "Training set size: 615, Validation set size: 205\n",
      "MAE: 15.3077, RMSE: 18.1512\n",
      "---\n",
      "Average MAE: 193.3866\n",
      "Average RMSE: 212.9480\n"
     ]
    }
   ],
   "source": [
    "# Lists to store metrics for each fold\n",
    "mae_scores = []\n",
    "rmse_scores = []\n",
    "\n",
    "for fold, (train_index, val_index) in enumerate(tscv.split(train)):\n",
    "    train_data = train.iloc[train_index]\n",
    "    val_data = train.iloc[val_index]\n",
    "\n",
    "    # Prepare features and target\n",
    "    X_train = train_data.drop(columns='Tesla')\n",
    "    y_train = train_data['Tesla']\n",
    "    X_val = val_data.drop(columns='Tesla')\n",
    "    y_val = val_data['Tesla']\n",
    "\n",
    "    # Fit the Linear Regression model\n",
    "    model = LinearRegression()\n",
    "    model_fit = model.fit(X_train, y_train)\n",
    "\n",
    "    # Forecast using the trained model for the validation set\n",
    "    predictions = model_fit.predict(X_val)\n",
    "\n",
    "    # Calculate evaluation metrics\n",
    "    mae = mean_absolute_error(y_val, predictions)\n",
    "    rmse = np.sqrt(mean_squared_error(y_val, predictions))\n",
    "\n",
    "    # Store the metrics for each fold\n",
    "    mae_scores.append(mae)\n",
    "    rmse_scores.append(rmse)\n",
    "\n",
    "    # Output results for this fold\n",
    "    print(f'Fold {fold + 1}')\n",
    "    print(f'Training set size: {len(train_data)}, Validation set size: {len(val_data)}')\n",
    "    print(f'MAE: {mae:.4f}, RMSE: {rmse:.4f}')\n",
    "    print('---')\n",
    "\n",
    "# Save evaluation metrics of the model\n",
    "avg_mae_linear = np.mean(mae_scores)\n",
    "avg_rmse_linear = np.mean(rmse_scores)\n",
    "\n",
    "# Output the average performance across all folds\n",
    "print(f'Average MAE: {avg_mae_linear:.4f}')\n",
    "print(f'Average RMSE: {avg_rmse_linear:.4f}')"
   ]
  },
  {
   "cell_type": "code",
   "execution_count": 34,
   "metadata": {},
   "outputs": [
    {
     "name": "stdout",
     "output_type": "stream",
     "text": [
      "Fold 1\n",
      "Training set size: 205, Validation set size: 205\n",
      "MAE: 47.1389, RMSE: 57.9150\n",
      "---\n",
      "Fold 2\n",
      "Training set size: 410, Validation set size: 205\n",
      "MAE: 14.5103, RMSE: 16.7279\n",
      "---\n",
      "Fold 3\n",
      "Training set size: 615, Validation set size: 205\n",
      "MAE: 7.8418, RMSE: 10.2845\n",
      "---\n",
      "Average MAE: 23.1637\n",
      "Average RMSE: 28.3092\n"
     ]
    }
   ],
   "source": [
    "# Lists to store metrics for each fold\n",
    "mae_scores = []\n",
    "rmse_scores = []\n",
    "\n",
    "for fold, (train_index, val_index) in enumerate(tscv.split(train)):\n",
    "    train_data = train.iloc[train_index]\n",
    "    val_data = train.iloc[val_index]\n",
    "\n",
    "    # Prepare features and target\n",
    "    X_train = train_data.drop(columns='Tesla')\n",
    "    y_train = train_data['Tesla']\n",
    "    X_val = val_data.drop(columns='Tesla')\n",
    "    y_val = val_data['Tesla']\n",
    "\n",
    "    # Fit the Linear Regression model\n",
    "    model = Ridge()\n",
    "    model_fit = model.fit(X_train, y_train)\n",
    "\n",
    "    # Forecast using the trained model for the validation set\n",
    "    predictions = model_fit.predict(X_val)\n",
    "\n",
    "    # Calculate evaluation metrics\n",
    "    mae = mean_absolute_error(y_val, predictions)\n",
    "    rmse = np.sqrt(mean_squared_error(y_val, predictions))\n",
    "\n",
    "    # Store the metrics for each fold\n",
    "    mae_scores.append(mae)\n",
    "    rmse_scores.append(rmse)\n",
    "\n",
    "    # Output results for this fold\n",
    "    print(f'Fold {fold + 1}')\n",
    "    print(f'Training set size: {len(train_data)}, Validation set size: {len(val_data)}')\n",
    "    print(f'MAE: {mae:.4f}, RMSE: {rmse:.4f}')\n",
    "    print('---')\n",
    "\n",
    "# Save evaluation metrics of the model\n",
    "avg_mae_ridge = np.mean(mae_scores)\n",
    "avg_rmse_ridge = np.mean(rmse_scores)\n",
    "\n",
    "# Output the average performance across all folds\n",
    "print(f'Average MAE: {avg_mae_ridge:.4f}')\n",
    "print(f'Average RMSE: {avg_rmse_ridge:.4f}')"
   ]
  },
  {
   "cell_type": "code",
   "execution_count": 35,
   "metadata": {},
   "outputs": [
    {
     "name": "stdout",
     "output_type": "stream",
     "text": [
      "Fold 1\n",
      "Training set size: 205, Validation set size: 205\n",
      "MAE: 8.8905, RMSE: 11.3324\n",
      "---\n",
      "Fold 2\n",
      "Training set size: 410, Validation set size: 205\n",
      "MAE: 5.7464, RMSE: 7.4436\n",
      "---\n",
      "Fold 3\n",
      "Training set size: 615, Validation set size: 205\n",
      "MAE: 4.5930, RMSE: 6.3889\n",
      "---\n",
      "Average MAE: 6.4100\n",
      "Average RMSE: 8.3883\n"
     ]
    }
   ],
   "source": [
    "# Lists to store metrics for each fold\n",
    "mae_scores = []\n",
    "rmse_scores = []\n",
    "\n",
    "for fold, (train_index, val_index) in enumerate(tscv.split(train)):\n",
    "    train_data = train.iloc[train_index]\n",
    "    val_data = train.iloc[val_index]\n",
    "\n",
    "    # Prepare features and target\n",
    "    X_train = train_data.drop(columns='Tesla')\n",
    "    y_train = train_data['Tesla']\n",
    "    X_val = val_data.drop(columns='Tesla')\n",
    "    y_val = val_data['Tesla']\n",
    "\n",
    "    # Fit the Linear Regression model\n",
    "    model = Lasso()\n",
    "    model_fit = model.fit(X_train, y_train)\n",
    "\n",
    "    # Forecast using the trained model for the validation set\n",
    "    predictions = model_fit.predict(X_val)\n",
    "\n",
    "    # Calculate evaluation metrics\n",
    "    mae = mean_absolute_error(y_val, predictions)\n",
    "    rmse = np.sqrt(mean_squared_error(y_val, predictions))\n",
    "\n",
    "    # Store the metrics for each fold\n",
    "    mae_scores.append(mae)\n",
    "    rmse_scores.append(rmse)\n",
    "\n",
    "    # Output results for this fold\n",
    "    print(f'Fold {fold + 1}')\n",
    "    print(f'Training set size: {len(train_data)}, Validation set size: {len(val_data)}')\n",
    "    print(f'MAE: {mae:.4f}, RMSE: {rmse:.4f}')\n",
    "    print('---')\n",
    "\n",
    "# Save evaluation metrics of the model\n",
    "avg_mae_lasso = np.mean(mae_scores)\n",
    "avg_rmse_lasso = np.mean(rmse_scores)\n",
    "\n",
    "# Output the average performance across all folds\n",
    "print(f'Average MAE: {avg_mae_lasso:.4f}')\n",
    "print(f'Average RMSE: {avg_rmse_lasso:.4f}')"
   ]
  },
  {
   "cell_type": "code",
   "execution_count": 36,
   "metadata": {},
   "outputs": [
    {
     "name": "stdout",
     "output_type": "stream",
     "text": [
      "Fold 1\n",
      "Training set size: 205, Validation set size: 205\n",
      "MAE: 37.0427, RMSE: 53.3574\n",
      "---\n",
      "Fold 2\n",
      "Training set size: 410, Validation set size: 205\n",
      "MAE: 27.8585, RMSE: 32.5833\n",
      "---\n",
      "Fold 3\n",
      "Training set size: 615, Validation set size: 205\n",
      "MAE: 14.4116, RMSE: 16.2319\n",
      "---\n",
      "Average MAE: 26.4376\n",
      "Average RMSE: 34.0575\n"
     ]
    }
   ],
   "source": [
    "# Lists to store metrics for each fold\n",
    "mae_scores = []\n",
    "rmse_scores = []\n",
    "\n",
    "for fold, (train_index, val_index) in enumerate(tscv.split(train)):\n",
    "    train_data = train.iloc[train_index]\n",
    "    val_data = train.iloc[val_index]\n",
    "\n",
    "    # Prepare features and target\n",
    "    X_train = train_data.drop(columns='Tesla')\n",
    "    y_train = train_data['Tesla']\n",
    "    X_val = val_data.drop(columns='Tesla')\n",
    "    y_val = val_data['Tesla']\n",
    "\n",
    "    # Fit the Linear Regression model\n",
    "    model = xgb.XGBRegressor(objective='reg:squarederror', n_estimators=20, max_depth=3)\n",
    "    model_fit = model.fit(X_train, y_train)\n",
    "\n",
    "    # Forecast using the trained model for the validation set\n",
    "    predictions = model_fit.predict(X_val)\n",
    "\n",
    "    # Calculate evaluation metrics\n",
    "    mae = mean_absolute_error(y_val, predictions)\n",
    "    rmse = np.sqrt(mean_squared_error(y_val, predictions))\n",
    "\n",
    "    # Store the metrics for each fold\n",
    "    mae_scores.append(mae)\n",
    "    rmse_scores.append(rmse)\n",
    "\n",
    "    # Output results for this fold\n",
    "    print(f'Fold {fold + 1}')\n",
    "    print(f'Training set size: {len(train_data)}, Validation set size: {len(val_data)}')\n",
    "    print(f'MAE: {mae:.4f}, RMSE: {rmse:.4f}')\n",
    "    print('---')\n",
    "\n",
    "# Save evaluation metrics of the model\n",
    "avg_mae_xgb = np.mean(mae_scores)\n",
    "avg_rmse_xgb = np.mean(rmse_scores)\n",
    "\n",
    "# Output the average performance across all folds\n",
    "print(f'Average MAE: {avg_mae_xgb:.4f}')\n",
    "print(f'Average RMSE: {avg_rmse_xgb:.4f}')"
   ]
  },
  {
   "cell_type": "markdown",
   "metadata": {},
   "source": [
    "### ML models summary"
   ]
  },
  {
   "cell_type": "code",
   "execution_count": 37,
   "metadata": {},
   "outputs": [],
   "source": [
    "MAE_values3 = [avg_mae_linear, avg_mae_ridge, avg_mae_lasso, avg_mae_xgb]\n",
    "RMSE_vales3 = [avg_rmse_linear, avg_rmse_ridge, avg_rmse_lasso, avg_rmse_xgb]"
   ]
  },
  {
   "cell_type": "code",
   "execution_count": 38,
   "metadata": {},
   "outputs": [
    {
     "data": {
      "text/html": [
       "<div>\n",
       "<style scoped>\n",
       "    .dataframe tbody tr th:only-of-type {\n",
       "        vertical-align: middle;\n",
       "    }\n",
       "\n",
       "    .dataframe tbody tr th {\n",
       "        vertical-align: top;\n",
       "    }\n",
       "\n",
       "    .dataframe thead th {\n",
       "        text-align: right;\n",
       "    }\n",
       "</style>\n",
       "<table border=\"1\" class=\"dataframe\">\n",
       "  <thead>\n",
       "    <tr style=\"text-align: right;\">\n",
       "      <th></th>\n",
       "      <th>Linear Regression</th>\n",
       "      <th>Ridge</th>\n",
       "      <th>Lasso</th>\n",
       "      <th>XGB</th>\n",
       "    </tr>\n",
       "  </thead>\n",
       "  <tbody>\n",
       "    <tr>\n",
       "      <th>MAE</th>\n",
       "      <td>193.386642</td>\n",
       "      <td>23.163696</td>\n",
       "      <td>6.409952</td>\n",
       "      <td>26.437577</td>\n",
       "    </tr>\n",
       "    <tr>\n",
       "      <th>RMSE</th>\n",
       "      <td>212.948027</td>\n",
       "      <td>28.309152</td>\n",
       "      <td>8.388306</td>\n",
       "      <td>34.057540</td>\n",
       "    </tr>\n",
       "  </tbody>\n",
       "</table>\n",
       "</div>"
      ],
      "text/plain": [
       "      Linear Regression      Ridge     Lasso        XGB\n",
       "MAE          193.386642  23.163696  6.409952  26.437577\n",
       "RMSE         212.948027  28.309152  8.388306  34.057540"
      ]
     },
     "execution_count": 38,
     "metadata": {},
     "output_type": "execute_result"
    }
   ],
   "source": [
    "ml_summary = pd.DataFrame(data = [MAE_values3, RMSE_vales3], index = [\"MAE\", \"RMSE\"], \n",
    "                             columns = [\"Linear Regression\", \"Ridge\", \"Lasso\", \"XGB\"])\n",
    "ml_summary"
   ]
  },
  {
   "cell_type": "markdown",
   "metadata": {},
   "source": [
    "### Final Summary"
   ]
  },
  {
   "cell_type": "code",
   "execution_count": 39,
   "metadata": {},
   "outputs": [],
   "source": [
    "final_summary = pd.concat([arima_summary, arimax_summary, ml_summary], axis = 1)"
   ]
  },
  {
   "cell_type": "code",
   "execution_count": 40,
   "metadata": {},
   "outputs": [],
   "source": [
    "final_summary_T = round(final_summary.T, 2)"
   ]
  },
  {
   "cell_type": "code",
   "execution_count": 41,
   "metadata": {},
   "outputs": [
    {
     "data": {
      "text/html": [
       "<div>\n",
       "<style scoped>\n",
       "    .dataframe tbody tr th:only-of-type {\n",
       "        vertical-align: middle;\n",
       "    }\n",
       "\n",
       "    .dataframe tbody tr th {\n",
       "        vertical-align: top;\n",
       "    }\n",
       "\n",
       "    .dataframe thead th {\n",
       "        text-align: right;\n",
       "    }\n",
       "</style>\n",
       "<table border=\"1\" class=\"dataframe\">\n",
       "  <thead>\n",
       "    <tr style=\"text-align: right;\">\n",
       "      <th></th>\n",
       "      <th>MAE</th>\n",
       "      <th>RMSE</th>\n",
       "      <th>AIC</th>\n",
       "      <th>BIC</th>\n",
       "    </tr>\n",
       "  </thead>\n",
       "  <tbody>\n",
       "    <tr>\n",
       "      <th>ARIMA(0,1,0)</th>\n",
       "      <td>54.93</td>\n",
       "      <td>63.17</td>\n",
       "      <td>2967.94</td>\n",
       "      <td>2971.85</td>\n",
       "    </tr>\n",
       "    <tr>\n",
       "      <th>ARIMA(1,1,0)</th>\n",
       "      <td>54.76</td>\n",
       "      <td>62.99</td>\n",
       "      <td>2969.13</td>\n",
       "      <td>2976.96</td>\n",
       "    </tr>\n",
       "    <tr>\n",
       "      <th>ARIMA(0,1,1)</th>\n",
       "      <td>54.75</td>\n",
       "      <td>62.98</td>\n",
       "      <td>2969.13</td>\n",
       "      <td>2976.96</td>\n",
       "    </tr>\n",
       "    <tr>\n",
       "      <th>ARIMA(1,1,1)</th>\n",
       "      <td>54.74</td>\n",
       "      <td>62.93</td>\n",
       "      <td>2970.74</td>\n",
       "      <td>2982.49</td>\n",
       "    </tr>\n",
       "    <tr>\n",
       "      <th>ARIMAX(0,1,0)</th>\n",
       "      <td>148.99</td>\n",
       "      <td>162.16</td>\n",
       "      <td>2717.96</td>\n",
       "      <td>2968.67</td>\n",
       "    </tr>\n",
       "    <tr>\n",
       "      <th>ARIMAX(1,1,0)</th>\n",
       "      <td>151.78</td>\n",
       "      <td>164.99</td>\n",
       "      <td>2717.50</td>\n",
       "      <td>2972.12</td>\n",
       "    </tr>\n",
       "    <tr>\n",
       "      <th>ARIMAX(0,1,1)</th>\n",
       "      <td>151.87</td>\n",
       "      <td>165.18</td>\n",
       "      <td>2717.48</td>\n",
       "      <td>2972.10</td>\n",
       "    </tr>\n",
       "    <tr>\n",
       "      <th>ARIMAX(1,1,1)</th>\n",
       "      <td>151.56</td>\n",
       "      <td>164.85</td>\n",
       "      <td>2718.42</td>\n",
       "      <td>2976.96</td>\n",
       "    </tr>\n",
       "    <tr>\n",
       "      <th>Linear Regression</th>\n",
       "      <td>193.39</td>\n",
       "      <td>212.95</td>\n",
       "      <td>NaN</td>\n",
       "      <td>NaN</td>\n",
       "    </tr>\n",
       "    <tr>\n",
       "      <th>Ridge</th>\n",
       "      <td>23.16</td>\n",
       "      <td>28.31</td>\n",
       "      <td>NaN</td>\n",
       "      <td>NaN</td>\n",
       "    </tr>\n",
       "    <tr>\n",
       "      <th>Lasso</th>\n",
       "      <td>6.41</td>\n",
       "      <td>8.39</td>\n",
       "      <td>NaN</td>\n",
       "      <td>NaN</td>\n",
       "    </tr>\n",
       "    <tr>\n",
       "      <th>XGB</th>\n",
       "      <td>26.44</td>\n",
       "      <td>34.06</td>\n",
       "      <td>NaN</td>\n",
       "      <td>NaN</td>\n",
       "    </tr>\n",
       "  </tbody>\n",
       "</table>\n",
       "</div>"
      ],
      "text/plain": [
       "                      MAE    RMSE      AIC      BIC\n",
       "ARIMA(0,1,0)        54.93   63.17  2967.94  2971.85\n",
       "ARIMA(1,1,0)        54.76   62.99  2969.13  2976.96\n",
       "ARIMA(0,1,1)        54.75   62.98  2969.13  2976.96\n",
       "ARIMA(1,1,1)        54.74   62.93  2970.74  2982.49\n",
       "ARIMAX(0,1,0)      148.99  162.16  2717.96  2968.67\n",
       "ARIMAX(1,1,0)      151.78  164.99  2717.50  2972.12\n",
       "ARIMAX(0,1,1)      151.87  165.18  2717.48  2972.10\n",
       "ARIMAX(1,1,1)      151.56  164.85  2718.42  2976.96\n",
       "Linear Regression  193.39  212.95      NaN      NaN\n",
       "Ridge               23.16   28.31      NaN      NaN\n",
       "Lasso                6.41    8.39      NaN      NaN\n",
       "XGB                 26.44   34.06      NaN      NaN"
      ]
     },
     "execution_count": 41,
     "metadata": {},
     "output_type": "execute_result"
    }
   ],
   "source": [
    "final_summary_T"
   ]
  },
  {
   "cell_type": "markdown",
   "metadata": {},
   "source": [
    "## Test Data"
   ]
  },
  {
   "cell_type": "markdown",
   "metadata": {},
   "source": [
    "### Deciding which ARIMA model is the best"
   ]
  },
  {
   "cell_type": "code",
   "execution_count": 42,
   "metadata": {},
   "outputs": [],
   "source": [
    "final_arima1 = ARIMA(train[\"Tesla\"], order = (1,1,1))\n",
    "final_arima1_fit = final_arima1.fit()\n",
    "forecast_fa1 = final_arima1_fit.forecast(steps = len(test))"
   ]
  },
  {
   "cell_type": "code",
   "execution_count": 43,
   "metadata": {},
   "outputs": [],
   "source": [
    "final_arima2 = ARIMA(train[\"Tesla\"], order = (0,1,0))\n",
    "final_arima2_fit = final_arima2.fit()\n",
    "forecast_fa2 = final_arima1_fit.forecast(steps = len(test))"
   ]
  },
  {
   "cell_type": "code",
   "execution_count": 44,
   "metadata": {},
   "outputs": [
    {
     "data": {
      "image/png": "[encoded data removed]",
      "text/plain": [
       "<Figure size 640x480 with 1 Axes>"
      ]
     },
     "metadata": {},
     "output_type": "display_data"
    }
   ],
   "source": [
    "test[\"Tesla\"].plot()\n",
    "forecast_fa1.plot()\n",
    "plt.show()"
   ]
  },
  {
   "cell_type": "code",
   "execution_count": 45,
   "metadata": {},
   "outputs": [
    {
     "data": {
      "image/png": "[encoded data removed]",
      "text/plain": [
       "<Figure size 640x480 with 1 Axes>"
      ]
     },
     "metadata": {},
     "output_type": "display_data"
    }
   ],
   "source": [
    "test[\"Tesla\"].plot()\n",
    "forecast_fa2.plot()\n",
    "plt.show()"
   ]
  },
  {
   "cell_type": "markdown",
   "metadata": {},
   "source": [
    "### Lasso Model"
   ]
  },
  {
   "cell_type": "code",
   "execution_count": 46,
   "metadata": {},
   "outputs": [],
   "source": [
    "lasso_final = Lasso()\n",
    "lasso_final.fit(train.drop(columns = [\"Tesla\"]), train[\"Tesla\"])\n",
    "preds_lasso_final = lasso_final.predict(test.drop(columns = \"Tesla\"))"
   ]
  },
  {
   "cell_type": "code",
   "execution_count": 47,
   "metadata": {},
   "outputs": [],
   "source": [
    "preds_lasso_final = pd.Series(preds_lasso_final, index = test.index)"
   ]
  },
  {
   "cell_type": "code",
   "execution_count": 48,
   "metadata": {},
   "outputs": [
    {
     "data": {
      "image/png": "[encoded data removed]",
      "text/plain": [
       "<Figure size 640x480 with 1 Axes>"
      ]
     },
     "metadata": {},
     "output_type": "display_data"
    }
   ],
   "source": [
    "preds_lasso_final.plot()\n",
    "test[\"Tesla\"].plot()\n",
    "plt.show()"
   ]
  },
  {
   "cell_type": "markdown",
   "metadata": {},
   "source": [
    "### Hybrid Model Composition"
   ]
  },
  {
   "cell_type": "code",
   "execution_count": 49,
   "metadata": {},
   "outputs": [
    {
     "data": {
      "text/plain": [
       "Date\n",
       "2024-02-08    186.645328\n",
       "2024-02-09    188.824892\n",
       "2024-02-10    188.824892\n",
       "2024-02-11    188.824892\n",
       "2024-02-12    193.390166\n",
       "                 ...    \n",
       "2024-08-26    219.018700\n",
       "2024-08-27    211.849855\n",
       "2024-08-28    206.459695\n",
       "2024-08-29    204.723586\n",
       "2024-08-30    205.004729\n",
       "Freq: D, Length: 205, dtype: float64"
      ]
     },
     "execution_count": 49,
     "metadata": {},
     "output_type": "execute_result"
    }
   ],
   "source": [
    "preds_lasso_final"
   ]
  },
  {
   "cell_type": "code",
   "execution_count": 50,
   "metadata": {},
   "outputs": [
    {
     "data": {
      "text/plain": [
       "2024-02-08    187.676739\n",
       "2024-02-09    187.602489\n",
       "2024-02-10    187.659479\n",
       "2024-02-11    187.615737\n",
       "2024-02-12    187.649311\n",
       "                 ...    \n",
       "2024-08-26    187.634732\n",
       "2024-08-27    187.634732\n",
       "2024-08-28    187.634732\n",
       "2024-08-29    187.634732\n",
       "2024-08-30    187.634732\n",
       "Freq: D, Name: predicted_mean, Length: 205, dtype: float64"
      ]
     },
     "execution_count": 50,
     "metadata": {},
     "output_type": "execute_result"
    }
   ],
   "source": [
    "forecast_fa1"
   ]
  },
  {
   "cell_type": "code",
   "execution_count": 51,
   "metadata": {},
   "outputs": [
    {
     "data": {
      "text/plain": [
       "Date\n",
       "2024-02-08    189.559998\n",
       "2024-02-09    193.570007\n",
       "2024-02-10    193.570007\n",
       "2024-02-11    193.570007\n",
       "2024-02-12    188.130005\n",
       "                 ...    \n",
       "2024-08-26    213.210007\n",
       "2024-08-27    209.210007\n",
       "2024-08-28    205.750000\n",
       "2024-08-29    206.279999\n",
       "2024-08-30    214.110001\n",
       "Freq: D, Name: Tesla, Length: 205, dtype: float64"
      ]
     },
     "execution_count": 51,
     "metadata": {},
     "output_type": "execute_result"
    }
   ],
   "source": [
    "test[\"Tesla\"]"
   ]
  },
  {
   "cell_type": "code",
   "execution_count": 52,
   "metadata": {},
   "outputs": [
    {
     "name": "stdout",
     "output_type": "stream",
     "text": [
      "Best MAE: 4.7464\n",
      "Best Weight for Lasso: 1.0000\n",
      "Best Weight for ARIMA: 0.0000\n"
     ]
    }
   ],
   "source": [
    "# Initialize variables to keep track of the best result\n",
    "best_mae = float('inf')\n",
    "best_weight_lasso = 0\n",
    "best_weight_arima = 0\n",
    "\n",
    "# Iterate over possible weight combinations\n",
    "for weight_lasso in np.linspace(0, 1, 100):  # 0 to 1 with 100 steps\n",
    "    weight_arima = 1 - weight_lasso\n",
    "    hybrid_forecasts = weight_lasso * preds_lasso_final + weight_arima * forecast_fa1\n",
    "    mae = mean_absolute_error(test[\"Tesla\"], hybrid_forecasts)\n",
    "    \n",
    "    # Update the best result if current MAE is lower\n",
    "    if mae < best_mae:\n",
    "        best_mae = mae\n",
    "        best_weight_lasso = weight_lasso\n",
    "        best_weight_arima = weight_arima\n",
    "\n",
    "# Output the best weights and corresponding MAE\n",
    "print(f'Best MAE: {best_mae:.4f}')\n",
    "print(f'Best Weight for Lasso: {best_weight_lasso:.4f}')\n",
    "print(f'Best Weight for ARIMA: {best_weight_arima:.4f}')"
   ]
  },
  {
   "cell_type": "markdown",
   "metadata": {},
   "source": [
    "The best model composition does not include ARIMA model at all. So, the final selected model is Lasso."
   ]
  },
  {
   "cell_type": "markdown",
   "metadata": {},
   "source": [
    "## Final Model"
   ]
  },
  {
   "cell_type": "code",
   "execution_count": 53,
   "metadata": {},
   "outputs": [
    {
     "data": {
      "image/png": "[encoded data removed]",
      "text/plain": [
       "<Figure size 640x480 with 1 Axes>"
      ]
     },
     "metadata": {},
     "output_type": "display_data"
    }
   ],
   "source": [
    "preds_lasso_final.plot()\n",
    "test[\"Tesla\"].plot()\n",
    "plt.title(\"Lasso Model\")\n",
    "plt.legend([\"Predictions\", \"Real\"])\n",
    "plt.show()"
   ]
  },
  {
   "cell_type": "code",
   "execution_count": null,
   "metadata": {},
   "outputs": [],
   "source": []
  }
 ],
 "metadata": {
  "kernelspec": {
   "display_name": "PersonalEnv",
   "language": "python",
   "name": "python3"
  },
  "language_info": {
   "codemirror_mode": {
    "name": "ipython",
    "version": 3
   },
   "file_extension": ".py",
   "mimetype": "text/x-python",
   "name": "python",
   "nbconvert_exporter": "python",
   "pygments_lexer": "ipython3",
   "version": "3.10.13"
  }
 },
 "nbformat": 4,
 "nbformat_minor": 2
}
